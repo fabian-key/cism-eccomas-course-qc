{
 "cells": [
  {
   "cell_type": "markdown",
   "id": "9cac0eb9-8541-4f94-af42-2b0069028f03",
   "metadata": {},
   "source": [
    "# Hands-on exercise 1\n",
    "## Problem: Getting started with quantum computing\n",
    "\n",
    "In this exercise you will learn about the basic concepts of quantum computing by creating a quantum circuit for the first **Bell state** using IBM's Qiskit quantum programming language"
   ]
  },
  {
   "cell_type": "code",
   "execution_count": null,
   "id": "1bb8cc86-2871-482b-832d-1b54229e0b4a",
   "metadata": {},
   "outputs": [],
   "source": [
    "from qiskit import QuantumCircuit, transpile\n",
    "from qiskit.visualization import plot_histogram\n",
    "from qiskit_aer import AerSimulator\n",
    "from qiskit_aer.noise import NoiseModel, depolarizing_error\n",
    "from qiskit.providers.fake_provider import GenericBackendV2"
   ]
  },
  {
   "cell_type": "markdown",
   "id": "13cbc91a-346d-4fc7-8e61-86e32cf0a04b",
   "metadata": {},
   "source": [
    "## Quantum hello world\n",
    "\n",
    "Let us create a 2-qubit quantum circuit that creates the first Bell state $(|00\\rangle+|11\\rangle)/\\sqrt{2}$ from the vacuum state $|00\\rangle$ and visualize it"
   ]
  },
  {
   "cell_type": "code",
   "execution_count": null,
   "id": "faba919d-4562-4ec8-97ba-51e1b415667f",
   "metadata": {},
   "outputs": [],
   "source": [
    "# Create a new circuit with two qubits\n",
    "qc = QuantumCircuit(2)"
   ]
  },
  {
   "cell_type": "code",
   "execution_count": null,
   "id": "ee3e4bc2-6866-4142-a4e4-37610870b8c5",
   "metadata": {},
   "outputs": [],
   "source": [
    "# Add a Hadamard gate to qubit 0\n",
    "qc.h(0)"
   ]
  },
  {
   "cell_type": "code",
   "execution_count": null,
   "id": "e3bc63f6-45cb-46f3-90f9-a4e028215431",
   "metadata": {},
   "outputs": [],
   "source": [
    "# Perform a controlled-X gate on qubit 1, controlled by qubit 0\n",
    "qc.cx(0, 1)"
   ]
  },
  {
   "cell_type": "markdown",
   "id": "4dd48b5b-f0c8-462b-9a63-ebea2ddf0250",
   "metadata": {},
   "source": [
    "In order to extract any information from the quantum state we need to perform measurements"
   ]
  },
  {
   "cell_type": "code",
   "execution_count": null,
   "id": "4b4a05ab-9c85-4744-9586-eb42ed9f9bbf",
   "metadata": {},
   "outputs": [],
   "source": [
    "qc.measure_all()"
   ]
  },
  {
   "cell_type": "code",
   "execution_count": null,
   "id": "40e6f3fd-0aad-4d1f-af07-22e2b807b068",
   "metadata": {},
   "outputs": [],
   "source": [
    "# Return a drawing of the circuit using MatPlotLib (\"mpl\").\n",
    "qc.draw(\"mpl\")"
   ]
  },
  {
   "cell_type": "markdown",
   "id": "9ba29137-33f5-458b-a6fb-6856662c9bfe",
   "metadata": {},
   "source": [
    "Next, let us evaluate the circuit using Qiskit's state-vector simulator Aer. We first need to create an instance of the simulator as backend device and then transpile the circuit for it"
   ]
  },
  {
   "cell_type": "code",
   "execution_count": null,
   "id": "d6913bed-28ca-48a7-bd8f-002e5986ee90",
   "metadata": {},
   "outputs": [],
   "source": [
    "backend = AerSimulator()\n",
    "qc_transpiled = transpile(qc, backend)"
   ]
  },
  {
   "cell_type": "markdown",
   "id": "372717c9-c998-4afc-971c-9734fd1517d6",
   "metadata": {},
   "source": [
    "Let us now run the transpiled circuit and inspect the result"
   ]
  },
  {
   "cell_type": "code",
   "execution_count": null,
   "id": "8976b272-99a0-43e5-b33c-18e169ca4aab",
   "metadata": {},
   "outputs": [],
   "source": [
    "job = backend.run(qc_transpiled, shots=1000)\n",
    "result = job.result()\n",
    "print(result)"
   ]
  },
  {
   "cell_type": "markdown",
   "id": "bee5a4eb-ddf6-4db5-977a-0999eee98db4",
   "metadata": {},
   "source": [
    "This output is quite convoluted. If we are just interested in the histogram, we can apply the `get_counts` function on the result"
   ]
  },
  {
   "cell_type": "code",
   "execution_count": null,
   "id": "757e59cc-b4ac-40d6-8b8b-b3819106e430",
   "metadata": {},
   "outputs": [],
   "source": [
    "counts = result.get_counts(qc_transpiled)\n",
    "print(counts)"
   ]
  },
  {
   "cell_type": "markdown",
   "id": "7e2eaa0f-9859-4e8e-9d3a-c89798d6571a",
   "metadata": {},
   "source": [
    "The above output means that the two states $|00\\rangle$ and $|11\\rangle$ are measured with nearly equal probability which we can also verify by looking at the histogram"
   ]
  },
  {
   "cell_type": "code",
   "execution_count": null,
   "id": "20bc0930-2c8d-4a53-ab87-d2861ba2a2c0",
   "metadata": {},
   "outputs": [],
   "source": [
    "plot_histogram(counts)"
   ]
  },
  {
   "cell_type": "markdown",
   "id": "86bccd91-0af7-4fc3-9e93-6a7177f13f9e",
   "metadata": {},
   "source": [
    "## Quantum hello world with noise\n",
    "\n",
    "Real-world quantum devices are (and possibly will always be) noisy, meaning that their calculation introduces small errors with each quantum gate applied to the quantum state. In what follows we will configure the quantum simulator to perform operations with some simulated noise."
   ]
  },
  {
   "cell_type": "code",
   "execution_count": null,
   "id": "180e51b6-1893-44b5-bece-5e4b5e125d1f",
   "metadata": {},
   "outputs": [],
   "source": [
    "# Create a depolarizing noise model\n",
    "noise_model = NoiseModel()\n",
    "\n",
    "error = depolarizing_error(0.05, 1)  # 5% error on 1-qubit gates\n",
    "noise_model.add_quantum_error(error, ['h'], [0])  # Apply to qubit 0\n",
    "noise_model.add_quantum_error(error, ['h'], [1])  # Apply to qubit 1\n",
    "\n",
    "error = depolarizing_error(0.05, 2)  # 5% error on 2-qubit gates\n",
    "noise_model.add_quantum_error(error, ['cx'], [0, 1])  # Apply to qubits 0, 1\n",
    "\n",
    "print(noise_model)"
   ]
  },
  {
   "cell_type": "code",
   "execution_count": null,
   "id": "0924f1f2-cce9-4752-9e1a-189d7b7cc097",
   "metadata": {},
   "outputs": [],
   "source": [
    "# Create the noisy simulator backend and run the quantum circuit\n",
    "backend = AerSimulator(noise_model=noise_model)\n",
    "qc_transpiled = transpile(qc, backend)\n",
    "job = backend.run(qc_transpiled, shots=1000)\n",
    "result = job.result()\n",
    "counts = result.get_counts(qc_transpiled)\n",
    "plot_histogram(counts)"
   ]
  },
  {
   "cell_type": "markdown",
   "id": "19b51be1-10d8-4350-84c4-9b2b01c260b3",
   "metadata": {},
   "source": [
    "**Exercise**: Play with the above code snippet to explore how the noise influences the result, e.g., disable noise for the 1-qubit and 2-qubit, respectively, or enlarge the error percentage"
   ]
  },
  {
   "cell_type": "markdown",
   "id": "8d0207b9-de7a-485f-b133-54216e914c0a",
   "metadata": {},
   "source": [
    "## Quantum hello world - one step closer to real hardware"
   ]
  },
  {
   "cell_type": "code",
   "execution_count": null,
   "id": "695c6166-b4c9-4684-8927-f21fae8cca70",
   "metadata": {},
   "outputs": [],
   "source": [
    "# Generate a 5-qubit simulated backend and transpile the quantum circuit to it\n",
    "backend = GenericBackendV2(num_qubits=5)\n",
    "qc_transpiled = transpile(qc, backend)\n",
    "qc_transpiled.draw(\"mpl\")"
   ]
  },
  {
   "cell_type": "markdown",
   "id": "68e39b47-226d-4e03-bda4-f4b571a8ebbf",
   "metadata": {},
   "source": [
    "The above quantum circuit is different from our original circuit in terms of the *Hadamard gate* (`H`) and the controlled not gate (`CNOT`). This is due to the fact that the Hadamard gate is not a so-called *native* gate of typical quantum hardware devices, and hence, it needs to get transpiled into the hardware's native gateset."
   ]
  },
  {
   "cell_type": "code",
   "execution_count": null,
   "id": "b0a268f0-7c76-407c-b62d-d2f8c2ebce86",
   "metadata": {},
   "outputs": [],
   "source": [
    "job = backend.run(qc_transpiled, shots=1000)\n",
    "result = job.result()\n",
    "counts = result.get_counts(qc_transpiled)\n",
    "plot_histogram(counts)"
   ]
  },
  {
   "cell_type": "markdown",
   "id": "60f4de00-955e-4d50-aa58-51721d92ea40",
   "metadata": {},
   "source": [
    "## Assignment\n",
    "\n",
    "Create a quantum circuit that generates the so-called **Greenberger–Horne–Zeilinger** (GHZ) state on `n` qubits\n",
    "$$\n",
    "|\\Psi\\rangle = \\frac{|00\\dots 0\\rangle + |11\\dots 1\\rangle}{\\sqrt{2}}\n",
    "$$\n",
    "and execute it on noiseless as well as noisy quantum simulators."
   ]
  },
  {
   "cell_type": "code",
   "execution_count": null,
   "id": "85416f64-43c4-404e-8dbf-43063f22d5c9",
   "metadata": {},
   "outputs": [],
   "source": []
  }
 ],
 "metadata": {
  "kernelspec": {
   "display_name": "cismschool",
   "language": "python",
   "name": "cismschool"
  },
  "language_info": {
   "codemirror_mode": {
    "name": "ipython",
    "version": 3
   },
   "file_extension": ".py",
   "mimetype": "text/x-python",
   "name": "python",
   "nbconvert_exporter": "python",
   "pygments_lexer": "ipython3",
   "version": "3.12.3"
  }
 },
 "nbformat": 4,
 "nbformat_minor": 5
}
