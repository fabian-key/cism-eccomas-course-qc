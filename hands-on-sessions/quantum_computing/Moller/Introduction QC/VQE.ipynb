{
 "cells": [
  {
   "cell_type": "markdown",
   "metadata": {
    "collapsed": false,
    "jupyter": {
     "outputs_hidden": false
    }
   },
   "source": [
    "# Hands-on exercise 2\n",
    "### Problem: Variational quantum eigensolver\n",
    "\n",
    "In this exercise you will learn about the different components of the variational quantum eigensolver (VQE)."
   ]
  },
  {
   "cell_type": "code",
   "execution_count": 1,
   "metadata": {},
   "outputs": [],
   "source": [
    "from time import perf_counter\n",
    "\n",
    "import matplotlib.pyplot as plt\n",
    "import numpy as np\n",
    "import pandas as pd\n",
    "import seaborn as sns\n",
    "from qiskit.circuit.library import TwoLocal\n",
    "from qiskit.primitives import Estimator\n",
    "from qiskit.quantum_info import SparsePauliOp\n",
    "from qiskit_algorithms import VQE\n",
    "from qiskit_algorithms.optimizers import SLSQP, SPSA\n",
    "from tqdm import tqdm"
   ]
  },
  {
   "cell_type": "markdown",
   "metadata": {
    "collapsed": false,
    "jupyter": {
     "outputs_hidden": false
    }
   },
   "source": [
    "### A working VQE example\n",
    "\n",
    "Qiskit ships with all components required to implement a customized VQE. Let us start by creating a simple **ansatz**."
   ]
  },
  {
   "cell_type": "code",
   "execution_count": 2,
   "metadata": {},
   "outputs": [
    {
     "data": {
      "image/png": "[encoded data removed]",
      "text/plain": [
       "<Figure size 454.517x200.667 with 1 Axes>"
      ]
     },
     "execution_count": 2,
     "metadata": {},
     "output_type": "execute_result"
    }
   ],
   "source": [
    "num_qubits = 2\n",
    "ansatz = TwoLocal(num_qubits, \"rx\", \"cx\")\n",
    "ansatz.draw(\"mpl\")"
   ]
  },
  {
   "cell_type": "markdown",
   "metadata": {},
   "source": [
    "Let's draw the ansatz so we can see it's a `QuantumCircuit` where θ\\[0\\] through θ\\[7\\] will be the parameters that are varied as VQE optimizer finds the minimum eigenvalue. We'll come back to the parameters later in a working example below."
   ]
  },
  {
   "cell_type": "code",
   "execution_count": 3,
   "metadata": {
    "collapsed": false,
    "jupyter": {
     "outputs_hidden": false
    }
   },
   "outputs": [
    {
     "data": {
      "image/png": "[encoded data removed]",
      "text/plain": [
       "<Figure size 705.35x200.667 with 1 Axes>"
      ]
     },
     "execution_count": 3,
     "metadata": {},
     "output_type": "execute_result"
    }
   ],
   "source": [
    "ansatz.decompose().draw(\"mpl\")"
   ]
  },
  {
   "cell_type": "markdown",
   "metadata": {},
   "source": [
    "Next, we need to select a classical **optimizer** and set the maximum number of iterations. The Qiskit [Algorithms](https://github.com/qiskit-community/qiskit-algorithms) library provides useful APIs for this purpose. Take a look at its [VQE](https://qiskit-community.github.io/qiskit-algorithms/stubs/qiskit_algorithms.VQE.html) implementation and at the [Optimizers](https://qiskit-community.github.io/qiskit-algorithms/apidocs/qiskit_algorithms.optimizers.html) module. For now, we'll go ahead with the [Sequential Least SQuares Programming optimizer](https://qiskit-community.github.io/qiskit-algorithms/stubs/qiskit_algorithms.optimizers.SLSQP.html)."
   ]
  },
  {
   "cell_type": "code",
   "execution_count": 4,
   "metadata": {},
   "outputs": [],
   "source": [
    "optimizer = SLSQP(maxiter=1000)"
   ]
  },
  {
   "cell_type": "markdown",
   "metadata": {},
   "source": [
    "Lastly, we need to select an **estimator** for evaluating the expectation values. You may ignore the warning created by the cell below."
   ]
  },
  {
   "cell_type": "code",
   "execution_count": 5,
   "metadata": {},
   "outputs": [
    {
     "name": "stderr",
     "output_type": "stream",
     "text": [
      "/tmp/ipykernel_5594/3535533691.py:1: DeprecationWarning: The class ``qiskit.primitives.estimator.Estimator`` is deprecated as of qiskit 1.2. It will be removed no earlier than 3 months after the release date. All implementations of the `BaseEstimatorV1` interface have been deprecated in favor of their V2 counterparts. The V2 alternative for the `Estimator` class is `StatevectorEstimator`.\n",
      "  estimator = Estimator()\n"
     ]
    }
   ],
   "source": [
    "estimator = Estimator()"
   ]
  },
  {
   "cell_type": "markdown",
   "metadata": {},
   "source": [
    "This estimator uses an exact, statevector simulation to evaluate the expectation values. We can also use a shot-based and noisy simulators or real backends instead. For more information of the simulators you can check out [Qiskit Aer Primitives](https://qiskit.github.io/qiskit-aer/apidocs/aer_primitives.html) and for the actual hardware [Qiskit IBM Runtime](https://docs.quantum.ibm.com/api/qiskit-ibm-runtime).\n",
    "\n",
    "With all the ingredients ready, we can now instantiate the VQE:"
   ]
  },
  {
   "cell_type": "code",
   "execution_count": 6,
   "metadata": {},
   "outputs": [],
   "source": [
    "vqe = VQE(estimator, ansatz, SPSA(maxiter=100))"
   ]
  },
  {
   "cell_type": "markdown",
   "metadata": {},
   "source": [
    "We are now ready to define our problem Hamiltonian for which we want to compute the minimal eigenvalue. In this example, the values come from a chemistry problem of finding the ground energy state of a $H_2$ molecule. Let's start be giving the decomposition into Pauli strings explicitly:"
   ]
  },
  {
   "cell_type": "code",
   "execution_count": 7,
   "metadata": {},
   "outputs": [],
   "source": [
    "H2_op = SparsePauliOp.from_list(\n",
    "    [\n",
    "        (\"II\", -1.052373245772859),\n",
    "        (\"IZ\", 0.39793742484318045),\n",
    "        (\"ZI\", -0.39793742484318045),\n",
    "        (\"ZZ\", -0.01128010425623538),\n",
    "        (\"XX\", 0.18093119978423156),\n",
    "    ]\n",
    ")"
   ]
  },
  {
   "cell_type": "markdown",
   "metadata": {},
   "source": [
    "Now we have everything at hand to run the VQE and print the result object it returns"
   ]
  },
  {
   "cell_type": "code",
   "execution_count": 8,
   "metadata": {},
   "outputs": [
    {
     "name": "stdout",
     "output_type": "stream",
     "text": [
      "{   'aux_operators_evaluated': None,\n",
      "    'cost_function_evals': 75,\n",
      "    'eigenvalue': np.float64(-1.8369679898186777),\n",
      "    'optimal_circuit': <qiskit.circuit.library.n_local.two_local.TwoLocal object at 0x7f331be93b60>,\n",
      "    'optimal_parameters': {   ParameterVectorElement(θ[0]): np.float64(-3.6492503886571646),\n",
      "                              ParameterVectorElement(θ[1]): np.float64(-3.6882253301582497),\n",
      "                              ParameterVectorElement(θ[2]): np.float64(-1.7590392926504603),\n",
      "                              ParameterVectorElement(θ[3]): np.float64(4.02256627779272),\n",
      "                              ParameterVectorElement(θ[4]): np.float64(-2.6339718339201825),\n",
      "                              ParameterVectorElement(θ[6]): np.float64(4.900569028594457),\n",
      "                              ParameterVectorElement(θ[7]): np.float64(-4.899468311055222),\n",
      "                              ParameterVectorElement(θ[5]): np.float64(4.565107444890668)},\n",
      "    'optimal_point': array([-3.64925039, -3.68822533, -1.75903929,  4.02256628, -2.63397183,\n",
      "        4.56510744,  4.90056903, -4.89946831]),\n",
      "    'optimal_value': np.float64(-1.8369679898186777),\n",
      "    'optimizer_evals': None,\n",
      "    'optimizer_result': <qiskit_algorithms.optimizers.optimizer.OptimizerResult object at 0x7f331ac62d80>,\n",
      "    'optimizer_time': 0.1979529857635498}\n"
     ]
    }
   ],
   "source": [
    "vqe = VQE(estimator, ansatz, optimizer)\n",
    "\n",
    "result = vqe.compute_minimum_eigenvalue(H2_op)\n",
    "print(result)"
   ]
  },
  {
   "cell_type": "markdown",
   "metadata": {},
   "source": [
    "Let's switch to a shot-based estimator (with that you can easily switch to real hardware) and another optimizer"
   ]
  },
  {
   "cell_type": "code",
   "execution_count": 9,
   "metadata": {},
   "outputs": [
    {
     "name": "stderr",
     "output_type": "stream",
     "text": [
      "/tmp/ipykernel_5594/964561171.py:3: DeprecationWarning: The class ``qiskit.primitives.estimator.Estimator`` is deprecated as of qiskit 1.2. It will be removed no earlier than 3 months after the release date. All implementations of the `BaseEstimatorV1` interface have been deprecated in favor of their V2 counterparts. The V2 alternative for the `Estimator` class is `StatevectorEstimator`.\n",
      "  estimator = Estimator(options={\"shots\": 1000})\n"
     ]
    },
    {
     "name": "stdout",
     "output_type": "stream",
     "text": [
      "{   'aux_operators_evaluated': None,\n",
      "    'cost_function_evals': 200,\n",
      "    'eigenvalue': np.float64(-1.8388049530686554),\n",
      "    'optimal_circuit': <qiskit.circuit.library.n_local.two_local.TwoLocal object at 0x7f331a96bf80>,\n",
      "    'optimal_parameters': {   ParameterVectorElement(θ[0]): np.float64(4.7551293258974425),\n",
      "                              ParameterVectorElement(θ[1]): np.float64(2.7596237863150606),\n",
      "                              ParameterVectorElement(θ[2]): np.float64(0.6347881536383759),\n",
      "                              ParameterVectorElement(θ[3]): np.float64(2.2136387172050713),\n",
      "                              ParameterVectorElement(θ[4]): np.float64(-1.6256090891995274),\n",
      "                              ParameterVectorElement(θ[6]): np.float64(-0.6171106948037295),\n",
      "                              ParameterVectorElement(θ[7]): np.float64(0.40982261750527227),\n",
      "                              ParameterVectorElement(θ[5]): np.float64(4.029519589710378)},\n",
      "    'optimal_point': array([ 4.75512933,  2.75962379,  0.63478815,  2.21363872, -1.62560909,\n",
      "        4.02951959, -0.61711069,  0.40982262]),\n",
      "    'optimal_value': np.float64(-1.8388049530686554),\n",
      "    'optimizer_evals': None,\n",
      "    'optimizer_result': <qiskit_algorithms.optimizers.optimizer.OptimizerResult object at 0x7f331aac3fb0>,\n",
      "    'optimizer_time': 0.5933883190155029}\n"
     ]
    }
   ],
   "source": [
    "from qiskit_algorithms.optimizers import SPSA\n",
    "\n",
    "estimator = Estimator(options={\"shots\": 1000})\n",
    "\n",
    "vqe.estimator = estimator\n",
    "vqe.optimizer = SPSA(maxiter=100)\n",
    "result = vqe.compute_minimum_eigenvalue(operator=H2_op)\n",
    "print(result)"
   ]
  },
  {
   "cell_type": "markdown",
   "metadata": {
    "collapsed": false,
    "jupyter": {
     "outputs_hidden": false
    }
   },
   "source": [
    "### Assignment 1 - Optimizers\n",
    "\n",
    "Experiment with at least 5 different optimizers from the [`qiskit_algorithms.optimizers`](https://qiskit-community.github.io/qiskit-algorithms/apidocs/qiskit_algorithms.optimizers.html) module. By filling in the code two cells  below. Make sure that the parameters of each optimizer (i.e., number of iterations) are fair."
   ]
  },
  {
   "cell_type": "code",
   "execution_count": 10,
   "metadata": {
    "collapsed": false,
    "jupyter": {
     "outputs_hidden": false
    }
   },
   "outputs": [
    {
     "name": "stderr",
     "output_type": "stream",
     "text": [
      "/tmp/ipykernel_5594/1068409605.py:6: DeprecationWarning: The class ``qiskit.primitives.estimator.Estimator`` is deprecated as of qiskit 1.2. It will be removed no earlier than 3 months after the release date. All implementations of the `BaseEstimatorV1` interface have been deprecated in favor of their V2 counterparts. The V2 alternative for the `Estimator` class is `StatevectorEstimator`.\n",
      "  estimator=Estimator(options={\"shots\": 1000}),\n"
     ]
    }
   ],
   "source": [
    "def benchmark(\n",
    "    optimizers,\n",
    "    ansatz,\n",
    "    operator,\n",
    "    num_reps=5,\n",
    "    estimator=Estimator(options={\"shots\": 1000}),\n",
    "):\n",
    "    result_dict = {\"optimizer\": [], \"energy\": [], \"counts\": [], \"time\": []}\n",
    "    for _ in range(num_reps):\n",
    "        for optimizer in tqdm(optimizers):\n",
    "            ansatz = TwoLocal(num_qubits, \"ry\", \"cz\")\n",
    "\n",
    "            counts = []\n",
    "            values = []\n",
    "\n",
    "            def store_intermediate_result(eval_count, parameters, mean, std):\n",
    "                counts.append(eval_count)\n",
    "                values.append(mean)\n",
    "\n",
    "            vqe = VQE(estimator, ansatz, optimizer, callback=store_intermediate_result)\n",
    "            start_time = perf_counter()\n",
    "            result = vqe.compute_minimum_eigenvalue(operator=operator)\n",
    "            end_time = perf_counter()\n",
    "            result_dict[\"optimizer\"].extend([type(optimizer).__name__] * len(counts))\n",
    "            result_dict[\"time\"].extend([end_time - start_time] * len(counts))\n",
    "            result_dict[\"counts\"].extend(counts)\n",
    "            result_dict[\"energy\"].extend(values)\n",
    "\n",
    "    return result_dict"
   ]
  },
  {
   "cell_type": "code",
   "execution_count": 11,
   "metadata": {},
   "outputs": [
    {
     "name": "stderr",
     "output_type": "stream",
     "text": [
      "0it [00:00, ?it/s]\n",
      "0it [00:00, ?it/s]\n",
      "0it [00:00, ?it/s]\n",
      "0it [00:00, ?it/s]\n",
      "0it [00:00, ?it/s]\n"
     ]
    }
   ],
   "source": [
    "# import your optimizers here!\n",
    "optimizers = [\n",
    "    # Your code here!    \n",
    "]  \n",
    "\n",
    "result_dict = benchmark(optimizers, TwoLocal(num_qubits, \"rx\", \"cx\"), H2_op)"
   ]
  },
  {
   "cell_type": "markdown",
   "metadata": {},
   "source": [
    "Now we can format all the data together and analyze how the different optimizers perform."
   ]
  },
  {
   "cell_type": "code",
   "execution_count": 12,
   "metadata": {},
   "outputs": [
    {
     "data": {
      "text/html": [
       "<div>\n",
       "<style scoped>\n",
       "    .dataframe tbody tr th:only-of-type {\n",
       "        vertical-align: middle;\n",
       "    }\n",
       "\n",
       "    .dataframe tbody tr th {\n",
       "        vertical-align: top;\n",
       "    }\n",
       "\n",
       "    .dataframe thead th {\n",
       "        text-align: right;\n",
       "    }\n",
       "</style>\n",
       "<table border=\"1\" class=\"dataframe\">\n",
       "  <thead>\n",
       "    <tr style=\"text-align: right;\">\n",
       "      <th></th>\n",
       "      <th>optimizer</th>\n",
       "      <th>energy</th>\n",
       "      <th>counts</th>\n",
       "      <th>time</th>\n",
       "    </tr>\n",
       "  </thead>\n",
       "  <tbody>\n",
       "  </tbody>\n",
       "</table>\n",
       "</div>"
      ],
      "text/plain": [
       "Empty DataFrame\n",
       "Columns: [optimizer, energy, counts, time]\n",
       "Index: []"
      ]
     },
     "execution_count": 12,
     "metadata": {},
     "output_type": "execute_result"
    }
   ],
   "source": [
    "df = pd.DataFrame.from_dict(result_dict)\n",
    "df"
   ]
  },
  {
   "cell_type": "code",
   "execution_count": 13,
   "metadata": {},
   "outputs": [
    {
     "data": {
      "image/png": "[encoded data removed]",
      "text/plain": [
       "<Figure size 640x480 with 2 Axes>"
      ]
     },
     "metadata": {},
     "output_type": "display_data"
    }
   ],
   "source": [
    "fig, ax = plt.subplots(1, 2)\n",
    "sns.lineplot(data=df, x=\"counts\", y=\"energy\", hue=\"optimizer\", errorbar=\"ci\", ax=ax[0])\n",
    "sns.lineplot(data=df, x=\"counts\", y=\"time\", hue=\"optimizer\", errorbar=\"ci\", ax=ax[1])\n",
    "\n",
    "fig.show()"
   ]
  },
  {
   "cell_type": "markdown",
   "metadata": {},
   "source": [
    "### Assignment 2 - Interpretation\n",
    "\n",
    "Discuss the results from the plots produced by the two cell above. Which optimizers perform best? How do energy levels and the number of iterations compare? Does the locality of the optimizers matter?"
   ]
  },
  {
   "cell_type": "markdown",
   "metadata": {},
   "source": [
    "Your answer here..."
   ]
  },
  {
   "cell_type": "markdown",
   "metadata": {
    "collapsed": false,
    "jupyter": {
     "outputs_hidden": false
    }
   },
   "source": [
    "### Assignment 3 - Ansatz implementation\n",
    "\n",
    "Tweak the VQE implementation by replacing the **ansatz**. Try different ansätze from the [`qiskit.circuit.library`](https://docs.quantum.ibm.com/api/qiskit/circuit_library), such as [`EfficientSU2`](https://docs.quantum.ibm.com/api/qiskit/qiskit.circuit.library.EfficientSU2#efficientsu2). Use the `benchmark` function and plotting utilities provided in the Assignment 1 to analyze the performance of the algorithm with each ansatz. Feel free to add cells below (and modify the `benchmark` function) as necessary."
   ]
  },
  {
   "cell_type": "code",
   "execution_count": 14,
   "metadata": {},
   "outputs": [],
   "source": [
    "# Your code here..."
   ]
  },
  {
   "cell_type": "markdown",
   "metadata": {},
   "source": [
    "Your analysis here..."
   ]
  },
  {
   "cell_type": "markdown",
   "metadata": {},
   "source": [
    "### Assignment 4 - Hamiltonian implementation\n",
    "\n",
    "Tweak the VQE implementation by replacing the **Hamiltonian**. Repeat the plotting and analysis from the previous assignment."
   ]
  },
  {
   "cell_type": "code",
   "execution_count": 15,
   "metadata": {},
   "outputs": [],
   "source": [
    "# Your code here..."
   ]
  },
  {
   "cell_type": "markdown",
   "metadata": {},
   "source": [
    "Your analysis here..."
   ]
  },
  {
   "cell_type": "markdown",
   "metadata": {},
   "source": [
    "### Assignment 5 - Comparison with Reference\n",
    "\n",
    "Use the experience you developed in the previous assignments to choose one or more combinations of parameters (Hamiltonian, ansatz, optimizer) that you expect a certain performance out of. Use the solver provided below to numerically find the lowest eigenvalue of the operator, and compare your results. How close is the relative error of the VQE solution?"
   ]
  },
  {
   "cell_type": "code",
   "execution_count": 16,
   "metadata": {},
   "outputs": [
    {
     "data": {
      "text/plain": [
       "np.float64(-1.8572750302023804)"
      ]
     },
     "execution_count": 16,
     "metadata": {},
     "output_type": "execute_result"
    }
   ],
   "source": [
    "from qiskit_algorithms import NumPyMinimumEigensolver\n",
    "\n",
    "NumPyMinimumEigensolver().compute_minimum_eigenvalue(operator=H2_op).eigenvalue"
   ]
  },
  {
   "cell_type": "code",
   "execution_count": 17,
   "metadata": {},
   "outputs": [],
   "source": [
    "# Your code here..."
   ]
  },
  {
   "cell_type": "markdown",
   "metadata": {},
   "source": [
    "Your analysis here..."
   ]
  }
 ],
 "metadata": {
  "kernelspec": {
   "display_name": "cismschool",
   "language": "python",
   "name": "cismschool"
  },
  "language_info": {
   "codemirror_mode": {
    "name": "ipython",
    "version": 3
   },
   "file_extension": ".py",
   "mimetype": "text/x-python",
   "name": "python",
   "nbconvert_exporter": "python",
   "pygments_lexer": "ipython3",
   "version": "3.12.3"
  }
 },
 "nbformat": 4,
 "nbformat_minor": 4
}
