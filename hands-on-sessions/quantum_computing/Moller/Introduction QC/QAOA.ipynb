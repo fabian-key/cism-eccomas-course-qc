{
 "cells": [
  {
   "cell_type": "markdown",
   "metadata": {
    "collapsed": false,
    "jupyter": {
     "outputs_hidden": false
    }
   },
   "source": [
    "# (WI4650) CodeLab 2 - QAOA\n",
    "### Problem: QAOA for the maximum-cut problem\n",
    "\n",
    "In this Codelab you will learn how to implement QAOA for the maximum-cut problem using Pennylane.\n",
    "\n",
    "To get started, please do the following:\n",
    "1. Install Pennylane and some additional Python packages: `pip install jupyterlab matplotlib pennylane seaborn pandas tqdm`\n",
    "2. Start JubyterLab: `jupyter lab`"
   ]
  },
  {
   "cell_type": "markdown",
   "metadata": {
    "collapsed": false,
    "jupyter": {
     "outputs_hidden": false
    }
   },
   "source": [
    "## A working QAOA example\n",
    "\n",
    "Pennylane ships with all components required to implement a customized QAOA."
   ]
  },
  {
   "cell_type": "markdown",
   "metadata": {},
   "source": [
    "## Part 0 - Setup\n",
    "\n",
    "First we setup out libraries, helper functions, and problem instance."
   ]
  },
  {
   "cell_type": "code",
   "execution_count": null,
   "metadata": {},
   "outputs": [],
   "source": [
    "from typing import List, Tuple\n",
    "\n",
    "import networkx as nx\n",
    "import pandas as pd\n",
    "import pennylane as qml\n",
    "import seaborn as sns\n",
    "from matplotlib import pyplot as plt\n",
    "from pennylane import numpy as np\n",
    "from tqdm import tqdm\n",
    "\n",
    "sns.set_theme()"
   ]
  },
  {
   "cell_type": "code",
   "execution_count": null,
   "metadata": {},
   "outputs": [],
   "source": [
    "# Helper functions\n",
    "def flatten(xss):\n",
    "    return [x for xs in xss for x in xs]\n",
    "\n",
    "\n",
    "# Specific to the (faster) lightning simulator\n",
    "def bitstring_to_int(bit_string_sample):\n",
    "    bit_string = \"\".join(str(bs) for bs in bit_string_sample)\n",
    "    return int(bit_string, base=2)"
   ]
  },
  {
   "cell_type": "markdown",
   "metadata": {},
   "source": [
    "Let us create the weighted undirected graph $G=(V,E)$ with five vertices $V$ and edges $E$ from the lecture slides."
   ]
  },
  {
   "cell_type": "code",
   "execution_count": null,
   "metadata": {},
   "outputs": [],
   "source": [
    "edges: List[Tuple[int, int, float]] = [\n",
    "    (0, 1, 1.0),\n",
    "    (0, 2, 2.0),\n",
    "    (1, 3, 3.0),\n",
    "    (2, 3, 7.0),\n",
    "    (2, 4, 4.0),\n",
    "    (3, 4, 5.0),\n",
    "]\n",
    "\n",
    "graph = nx.Graph()\n",
    "graph.add_nodes_from(list(range(5)))\n",
    "graph.add_weighted_edges_from(edges)"
   ]
  },
  {
   "cell_type": "code",
   "execution_count": null,
   "metadata": {},
   "outputs": [],
   "source": [
    "n_wires = len(set(flatten([[e[0], e[1]] for e in edges])))\n",
    "dev = qml.device(\"lightning.qubit\", wires=n_wires, shots=1)"
   ]
  },
  {
   "cell_type": "code",
   "execution_count": null,
   "metadata": {},
   "outputs": [],
   "source": [
    "pos = nx.spring_layout(graph)\n",
    "nx.draw(graph, pos, with_labels=True, font_weight=\"bold\")\n",
    "labels = nx.get_edge_attributes(graph, \"weight\")\n",
    "nx.draw_networkx_edge_labels(graph, pos, edge_labels=labels)\n",
    "plt.show()"
   ]
  },
  {
   "cell_type": "markdown",
   "metadata": {},
   "source": [
    "## Part 1 - Quantum Circuits\n",
    "\n",
    "Next, your task is to set up the quantum circuits for the given problem.\n"
   ]
  },
  {
   "cell_type": "markdown",
   "metadata": {},
   "source": [
    "### Assignment 1 - $H_M$\n",
    "Create the time-evolution of the Mixer Hamiltonian $H_M = \\sum_{j=1}^nX_i$. Implement a function `U_M` with parameter `beta` that creates the mixing Hamiltonian $U_M(\\beta)$ for the max-cut problem. You should use the Pennylane API, documented [here](https://docs.pennylane.ai/en/stable/code/qml.html). For this part, you might find operations like the [RX](https://docs.pennylane.ai/en/stable/code/api/pennylane.RX.html) useful. Note that you have access to the global variable `edges`."
   ]
  },
  {
   "cell_type": "code",
   "execution_count": null,
   "metadata": {},
   "outputs": [],
   "source": [
    "def U_M(beta: float):\n",
    "    # Your code here!\n",
    "    pass"
   ]
  },
  {
   "cell_type": "markdown",
   "metadata": {},
   "source": [
    "### Assignment 2 - $H_C$\n",
    "\n",
    "Create the time-evolution of the Cost Hamiltonian $H_C = \\frac{1}{2}\\sum_{(j,k)\\in E} W_{jk}(\\mathbb{I} - Z_jZ_k)$. Implement a function `U_C` with parameter `gamma` that creates the Hamiltonian $U_C(\\gamma)$ for the max-cut problem. You should use the Pennylane API, documented [here](https://docs.pennylane.ai/en/stable/code/qml.html). For this part, you might find operations like the [RZ](https://docs.pennylane.ai/en/stable/code/api/pennylane.RZ.html) and [CNOT](https://docs.pennylane.ai/en/stable/code/api/pennylane.CNOT.html) useful. Note that you have access to the global variable `edges`."
   ]
  },
  {
   "cell_type": "code",
   "execution_count": null,
   "metadata": {},
   "outputs": [],
   "source": [
    "def U_C(gamma: float):\n",
    "    # Your code here!\n",
    "    pass"
   ]
  },
  {
   "cell_type": "markdown",
   "metadata": {},
   "source": [
    "### Assignment 3 - $H_C$ encoding\n",
    "\n",
    "Consider the following sum of Pauli strings:\n",
    "\n",
    "$IIIIIIZZ + IIIIIZIZ + IIIZIIIZ + IIIIIZZI + IIIIZZII + IIIZZIII + IIZZIIII + IZZIIIII + ZIZIIIII$\n",
    "\n",
    "Assuming this is the encoding of a MaxCut Cost Hamiltonian $H_C = \\frac{1}{2}\\sum_{(j,k)\\in E} W_{jk}(\\mathbb{I} - Z_jZ_k)$, derive the structure of the underlying graph. You can either provide an adjacency list or draw the graph as in the cells above."
   ]
  },
  {
   "cell_type": "markdown",
   "metadata": {},
   "source": [
    "Your answer here..."
   ]
  },
  {
   "cell_type": "code",
   "execution_count": null,
   "metadata": {},
   "outputs": [],
   "source": [
    "# Or here..."
   ]
  },
  {
   "cell_type": "markdown",
   "metadata": {},
   "source": [
    "### Assignment 4 - QAOA\n",
    "\n",
    "Implement the $\\prod_{k=1}^p e^{-iU_C(\\boldsymbol{\\beta}_k)}e^{-iU_M(\\boldsymbol{\\gamma}_k)}$ circuit that evolves $\\ket{\\psi(0)}$ into $\\ket{\\psi(\\boldsymbol{\\gamma}, \\boldsymbol{\\beta}})$. Implement a function `circuit` with parameters `gammas` and `betas` that uses $U_C(\\gamma)$ and $U_M(\\beta)$ (in this order) for the max-cut problem. You should use the Pennylane API, documented [here](https://docs.pennylane.ai/en/stable/code/qml.html). Remember the initial state is $\\ket{0}^{\\otimes n}$."
   ]
  },
  {
   "cell_type": "code",
   "execution_count": null,
   "metadata": {},
   "outputs": [],
   "source": [
    "@qml.qnode(dev)\n",
    "def circuit(gammas, betas, edge=None, n_layers=1):\n",
    "    # Your code here!\n",
    "\n",
    "    if edge is None:\n",
    "        # measurement phase\n",
    "        return qml.sample()\n",
    "\n",
    "    # during the optimization phase we are evaluating a term\n",
    "    # in the objective using expval\n",
    "    H = qml.PauliZ(edge[0]) @ qml.PauliZ(edge[1])\n",
    "    return qml.expval(H)"
   ]
  },
  {
   "cell_type": "markdown",
   "metadata": {},
   "source": [
    "## Part 3 - Experimentation\n",
    "\n",
    "We provide an optimization loop for you to test your implementation on. Feel free to experiment with different parameter settings and circuit implementations!"
   ]
  },
  {
   "cell_type": "code",
   "execution_count": null,
   "metadata": {},
   "outputs": [],
   "source": [
    "def qaoa_maxcut(\n",
    "    n_layers: int = 1, opt=qml.AdagradOptimizer(stepsize=0.5), steps: int = 100\n",
    "):\n",
    "    print(\"\\np={:d}\".format(n_layers))\n",
    "\n",
    "    # minimize the negative of the objective function\n",
    "    def objective(params):\n",
    "        gammas = params[0]\n",
    "        betas = params[1]\n",
    "        neg_obj = 0\n",
    "        for edge in edges:\n",
    "            # objective for the MaxCut problem\n",
    "            neg_obj -= 0.5 * (1 - circuit(gammas, betas, edge=edge, n_layers=n_layers))\n",
    "        return neg_obj\n",
    "\n",
    "    # optimize parameters in objective\n",
    "    result_dict = {\"step\": [], \"objective\": [], \"layers\": []}\n",
    "\n",
    "    # Sample some parameters\n",
    "    params = 0.01 * np.random.rand(2, n_layers, requires_grad=True)\n",
    "\n",
    "    for i in tqdm(range(steps)):\n",
    "        params = opt.step(objective, params)\n",
    "        obj_value = -objective(params)\n",
    "        result_dict[\"step\"].append(i + 1)\n",
    "        result_dict[\"objective\"].append(obj_value)\n",
    "        result_dict[\"layers\"].append(n_layers)\n",
    "\n",
    "    # sample measured bitstrings 100 times\n",
    "    bit_strings = []\n",
    "    n_samples = 100\n",
    "    for i in range(0, n_samples):\n",
    "        bit_strings.append(\n",
    "            bitstring_to_int(\n",
    "                circuit(params[0], params[1], edge=None, n_layers=n_layers)\n",
    "            )\n",
    "        )\n",
    "\n",
    "    # print optimal parameters and most frequently sampled bitstring\n",
    "    counts = np.bincount(np.array(bit_strings))\n",
    "    most_freq_bit_string = np.argmax(counts)\n",
    "    print(\"Optimized (gamma, beta) vectors:\\n{}\".format(params[:, :n_layers]))\n",
    "    print(\n",
    "        \"Most frequently sampled bit string is:\",\n",
    "        format(most_freq_bit_string, f\"0{n_wires}b\"),\n",
    "    )\n",
    "\n",
    "    return -objective(params=params), bit_strings, result_dict"
   ]
  },
  {
   "cell_type": "code",
   "execution_count": null,
   "metadata": {},
   "outputs": [],
   "source": [
    "obj1, bitstrings1, res1 = qaoa_maxcut(n_layers=1, steps=50)\n",
    "obj2, bitstrings2, res2 = qaoa_maxcut(n_layers=2, steps=50)"
   ]
  },
  {
   "cell_type": "markdown",
   "metadata": {},
   "source": [
    "## Part 4 - Analysis\n",
    "\n",
    "Now that we hve some empirical data, we can analyze the differences between the the two QAOA versions. We begin by preparing the data."
   ]
  },
  {
   "cell_type": "code",
   "execution_count": null,
   "metadata": {},
   "outputs": [],
   "source": [
    "df = pd.concat([pd.DataFrame.from_dict(res1), pd.DataFrame.from_dict(res2)])\n",
    "df"
   ]
  },
  {
   "cell_type": "markdown",
   "metadata": {},
   "source": [
    "Next, we can visualize the results."
   ]
  },
  {
   "cell_type": "code",
   "execution_count": null,
   "metadata": {},
   "outputs": [],
   "source": [
    "sns.lineplot(\n",
    "    data=df, x=\"step\", y=\"objective\", hue=\"layers\", style=\"layers\", markers=True\n",
    ")\n",
    "plt.xticks(sorted([x for x in set(df[\"step\"]) if x % 10 == 0]))\n",
    "plt.show()"
   ]
  },
  {
   "cell_type": "code",
   "execution_count": null,
   "metadata": {},
   "outputs": [],
   "source": [
    "xticks = range(0, 32)\n",
    "xtick_labels = list(map(lambda x: format(x, f\"0{n_wires}b\"), xticks))\n",
    "bins = np.arange(0, 33) - 0.5\n",
    "\n",
    "fig, (ax1, ax2) = plt.subplots(1, 2, figsize=(16, 4))\n",
    "plt.subplot(1, 2, 1)\n",
    "plt.title(\"n_layers=1\")\n",
    "plt.xlabel(\"bitstrings\")\n",
    "plt.ylabel(\"freq.\")\n",
    "plt.xticks(xticks, xtick_labels, rotation=\"vertical\")\n",
    "plt.hist(bitstrings1, bins=bins)\n",
    "plt.subplot(1, 2, 2)\n",
    "plt.title(\"n_layers=2\")\n",
    "plt.xlabel(\"bitstrings\")\n",
    "plt.ylabel(\"freq.\")\n",
    "plt.xticks(xticks, xtick_labels, rotation=\"vertical\")\n",
    "plt.hist(bitstrings2, bins=bins)\n",
    "# plt.tight_layout()\n",
    "plt.show()"
   ]
  },
  {
   "cell_type": "markdown",
   "metadata": {},
   "source": [
    "## Assignment 5 - Analysis\n",
    "\n",
    "Discuss the results obtained in the experiment above. Which bit strings are sampled most frequently and how do they encode? How does the additional layer affect the results? Feel free to consider additional variables and plot your own data."
   ]
  },
  {
   "cell_type": "markdown",
   "metadata": {},
   "source": [
    "Your answer here..."
   ]
  },
  {
   "cell_type": "markdown",
   "metadata": {},
   "source": [
    "## Assignment 6 - Mixing Hamiltonian\n",
    "\n",
    "The role of the Mixing Hamiltonian does not clearly follow from the derivation of the QUBO formulation. Explain why $H_M$ is necessary (not necessarily the specific version you are asked to implement in the assignment) for QAOA to work for the MaxCut problem.\n",
    "\n",
    "You could approach this in two ways: either analytically explain the mathematics of the systems with and without $H_M$ or empirically show the effects of removing $U_M$ from the `circuit` function. You are encouraged to experiment with both!"
   ]
  },
  {
   "cell_type": "markdown",
   "metadata": {},
   "source": [
    "Your answer here..."
   ]
  },
  {
   "cell_type": "code",
   "execution_count": null,
   "metadata": {},
   "outputs": [],
   "source": [
    "# Or here..."
   ]
  },
  {
   "cell_type": "code",
   "execution_count": null,
   "metadata": {},
   "outputs": [],
   "source": []
  }
 ],
 "metadata": {
  "kernelspec": {
   "display_name": "Python 3 (ipykernel)",
   "language": "python",
   "name": "python3"
  },
  "language_info": {
   "codemirror_mode": {
    "name": "ipython",
    "version": 3
   },
   "file_extension": ".py",
   "mimetype": "text/x-python",
   "name": "python",
   "nbconvert_exporter": "python",
   "pygments_lexer": "ipython3",
   "version": "3.12.5"
  }
 },
 "nbformat": 4,
 "nbformat_minor": 4
}
