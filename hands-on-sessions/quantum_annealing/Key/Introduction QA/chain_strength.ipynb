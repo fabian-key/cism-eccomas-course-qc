{
 "cells": [
  {
   "cell_type": "markdown",
   "id": "ef6ddb86-6385-49b1-8157-b312207d134e",
   "metadata": {},
   "source": [
    "# Chain Strength\n",
    "\n",
    "In this example, we consider a fully-connected graph with five nodes, i.e., five logical qubits. Such a graph cannot be represented by five physical qubits on an Advantage QPU. Thus, the minor embedding will create at least one chain of physical qubits for a single logical qubit.  \n",
    "\n",
    "## Note\n",
    "\n",
    "The following code is based on https://docs.dwavequantum.com/en/latest/quantum_research/embedding_intro.html#chain-strength"
   ]
  },
  {
   "cell_type": "code",
   "execution_count": 1,
   "id": "30b5fa11-daac-4596-b1fe-aa2eb8530eb8",
   "metadata": {},
   "outputs": [],
   "source": [
    "import dimod\n",
    "import dwave.inspector\n",
    "from dwave.system import DWaveSampler, EmbeddingComposite"
   ]
  },
  {
   "cell_type": "markdown",
   "id": "4939030b-1a0e-4034-ad95-942d0e68159f",
   "metadata": {},
   "source": [
    "## Graph and Problem Definition\n",
    "\n",
    "A binary quadratic model (BQM), which can encode either an Ising model or a QUBO problem, is created such that the problem graph is a fully-connected graph with five nodes. All qubit biases and coupling strengths are equal to $1.0$."
   ]
  },
  {
   "cell_type": "code",
   "execution_count": 2,
   "id": "17f5adf5-2bf2-4790-92a6-7bd9e13e3561",
   "metadata": {},
   "outputs": [],
   "source": [
    "bqm = dimod.generators.doped(1, 5)\n",
    "bqm.add_linear_from({v: 1 for v in bqm.variables})"
   ]
  },
  {
   "cell_type": "code",
   "execution_count": 3,
   "id": "8e1afc4a-411a-4366-b420-bf7c7dadefa4",
   "metadata": {},
   "outputs": [
    {
     "name": "stdout",
     "output_type": "stream",
     "text": [
      "BinaryQuadraticModel({0: 1.0, 1: 1.0, 2: 1.0, 3: 1.0, 4: 1.0}, {(1, 0): 1.0, (2, 0): 1.0, (2, 1): 1.0, (3, 0): 1.0, (3, 1): 1.0, (3, 2): 1.0, (4, 0): 1.0, (4, 1): 1.0, (4, 2): 1.0, (4, 3): 1.0}, 0.0, 'SPIN')\n"
     ]
    }
   ],
   "source": [
    "print(bqm)"
   ]
  },
  {
   "cell_type": "markdown",
   "id": "c4170158-90fe-49f1-82ce-06659e77ad82",
   "metadata": {},
   "source": [
    "## Problem Solution"
   ]
  },
  {
   "cell_type": "code",
   "execution_count": 4,
   "id": "11d65b23-6181-4b4e-b283-e87a5b0c937c",
   "metadata": {},
   "outputs": [],
   "source": [
    "sampler = EmbeddingComposite(DWaveSampler())"
   ]
  },
  {
   "cell_type": "markdown",
   "id": "09df01c9-ce9f-40d1-bf17-3f9981e15711",
   "metadata": {},
   "source": [
    "### Automatic Chain Strength "
   ]
  },
  {
   "cell_type": "code",
   "execution_count": 5,
   "id": "bdfc9f4d-adfe-469d-96f7-2e9cb0a9c60f",
   "metadata": {},
   "outputs": [
    {
     "name": "stdout",
     "output_type": "stream",
     "text": [
      "    0  1  2  3  4 energy num_oc. chain_.\n",
      "0  -1 +1 +1 -1 -1   -3.0       6     0.0\n",
      "1  +1 +1 -1 -1 -1   -3.0      12     0.0\n",
      "2  -1 +1 -1 -1 +1   -3.0       9     0.0\n",
      "3  +1 -1 +1 -1 -1   -3.0      11     0.0\n",
      "4  -1 -1 -1 +1 +1   -3.0      12     0.0\n",
      "5  -1 -1 +1 -1 +1   -3.0       9     0.0\n",
      "6  +1 -1 -1 +1 -1   -3.0      10     0.0\n",
      "7  +1 -1 -1 -1 +1   -3.0      14     0.0\n",
      "8  -1 -1 +1 +1 -1   -3.0       6     0.0\n",
      "9  -1 +1 -1 +1 -1   -3.0      10     0.0\n",
      "10 +1 -1 -1 -1 -1   -1.0       1     0.0\n",
      "['SPIN', 11 rows, 100 samples, 5 variables]\n"
     ]
    }
   ],
   "source": [
    "sampleset = sampler.sample(bqm, num_reads=100, label='chain_strength')     \n",
    "print(sampleset)"
   ]
  },
  {
   "cell_type": "code",
   "execution_count": 6,
   "id": "ecadfadb-3927-4d3d-82ea-8b349dc91957",
   "metadata": {},
   "outputs": [
    {
     "name": "stdout",
     "output_type": "stream",
     "text": [
      "Chain strenght: 2.828\n"
     ]
    }
   ],
   "source": [
    "print(f\"Chain strenght: {round(sampleset.info['embedding_context']['chain_strength'], 3)}\")"
   ]
  },
  {
   "cell_type": "markdown",
   "id": "bdd3a33a-c59f-4667-a626-c0aa87b63910",
   "metadata": {},
   "source": [
    "Select different samples from the energy histogram (especially some with higher energies, if available) in the *DWave Inspector* and activate the display of chains and broken chains."
   ]
  },
  {
   "cell_type": "code",
   "execution_count": 7,
   "id": "ec481b30-8b50-4666-acb1-d2c108c7a6f3",
   "metadata": {},
   "outputs": [
    {
     "data": {
      "text/html": [
       "<iframe src=https://juniq.fz-juelich.de/user/fabian.key_at_tuwien.ac.at/zd23d7c295224576abebef788d500602/proxy/18002/?problemId=db43edfd-e975-4a69-a11c-69063895fcfe width=\"100%\" height=640></iframe>"
      ],
      "text/plain": [
       "Serving Inspector on https://juniq.fz-juelich.de/user/fabian.key_at_tuwien.ac.at/zd23d7c295224576abebef788d500602/proxy/18002/?problemId=db43edfd-e975-4a69-a11c-69063895fcfe"
      ]
     },
     "metadata": {},
     "output_type": "display_data"
    },
    {
     "data": {
      "text/plain": [
       "'https://juniq.fz-juelich.de/user/fabian.key_at_tuwien.ac.at/zd23d7c295224576abebef788d500602/proxy/18002/?problemId=db43edfd-e975-4a69-a11c-69063895fcfe'"
      ]
     },
     "execution_count": 7,
     "metadata": {},
     "output_type": "execute_result"
    }
   ],
   "source": [
    "dwave.inspector.show(sampleset)"
   ]
  },
  {
   "cell_type": "markdown",
   "id": "90345611-6575-4499-83af-1de6a5970c3c",
   "metadata": {},
   "source": [
    "### Decreased Chain Strength\n",
    "\n",
    "In contrast to above, we now use a manually specifcied chain strenght `chain_strength = 1`."
   ]
  },
  {
   "cell_type": "code",
   "execution_count": 8,
   "id": "4bff37aa-4f37-4570-98d2-7c2a84e0962a",
   "metadata": {},
   "outputs": [
    {
     "name": "stdout",
     "output_type": "stream",
     "text": [
      "   0  1  2  3  4 energy num_oc. chain_.\n",
      "2 +1 +1 -1 -1 -1   -3.0       3     0.0\n",
      "3 -1 -1 -1 +1 +1   -3.0       1     0.0\n",
      "4 -1 +1 -1 +1 -1   -3.0       3     0.0\n",
      "5 -1 +1 -1 -1 +1   -3.0       3     0.0\n",
      "6 +1 -1 +1 -1 -1   -3.0       1     0.0\n",
      "7 -1 -1 +1 -1 +1   -3.0       1     0.0\n",
      "8 -1 -1 +1 +1 -1   -3.0       1     0.0\n",
      "9 +1 -1 -1 +1 -1   -3.0       5     0.0\n",
      "0 -1 +1 +1 +1 -1   -1.0      55     0.2\n",
      "1 +1 -1 -1 +1 +1   -1.0      27     0.2\n",
      "['SPIN', 10 rows, 100 samples, 5 variables]\n"
     ]
    }
   ],
   "source": [
    "sampleset = sampler.sample(bqm, num_reads=100, chain_strength=1, label='chain_strength_decreased')\n",
    "print(sampleset) "
   ]
  },
  {
   "cell_type": "markdown",
   "id": "5570ba78-c958-4f17-9614-744fd76a497f",
   "metadata": {},
   "source": [
    "As above, select different samples from the energy histogram (especially some with higher energies, if available) in the *DWave Inspector* and activate the display of chains and broken chains again."
   ]
  },
  {
   "cell_type": "code",
   "execution_count": 9,
   "id": "03d9ec54-1b1c-428d-b48e-9ef7c2620ac5",
   "metadata": {},
   "outputs": [
    {
     "data": {
      "text/html": [
       "<iframe src=https://juniq.fz-juelich.de/user/fabian.key_at_tuwien.ac.at/zd23d7c295224576abebef788d500602/proxy/18002/?problemId=afa18d63-acde-438f-b75b-7a03f640ddda width=\"100%\" height=640></iframe>"
      ],
      "text/plain": [
       "Serving Inspector on https://juniq.fz-juelich.de/user/fabian.key_at_tuwien.ac.at/zd23d7c295224576abebef788d500602/proxy/18002/?problemId=afa18d63-acde-438f-b75b-7a03f640ddda"
      ]
     },
     "metadata": {},
     "output_type": "display_data"
    },
    {
     "data": {
      "text/plain": [
       "'https://juniq.fz-juelich.de/user/fabian.key_at_tuwien.ac.at/zd23d7c295224576abebef788d500602/proxy/18002/?problemId=afa18d63-acde-438f-b75b-7a03f640ddda'"
      ]
     },
     "execution_count": 9,
     "metadata": {},
     "output_type": "execute_result"
    }
   ],
   "source": [
    "dwave.inspector.show(sampleset)"
   ]
  }
 ],
 "metadata": {
  "kernelspec": {
   "display_name": "Python 3 (ipykernel)",
   "language": "python",
   "name": "python3"
  },
  "language_info": {
   "codemirror_mode": {
    "name": "ipython",
    "version": 3
   },
   "file_extension": ".py",
   "mimetype": "text/x-python",
   "name": "python",
   "nbconvert_exporter": "python",
   "pygments_lexer": "ipython3",
   "version": "3.11.3"
  }
 },
 "nbformat": 4,
 "nbformat_minor": 5
}
