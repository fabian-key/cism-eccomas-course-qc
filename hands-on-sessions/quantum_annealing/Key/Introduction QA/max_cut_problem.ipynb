{
 "cells": [
  {
   "cell_type": "code",
   "execution_count": null,
   "id": "653399ff-1862-4422-afaa-e8bbf2aab127",
   "metadata": {},
   "outputs": [],
   "source": [
    "import dwave.inspector\n",
    "from dwave.system import DWaveSampler, EmbeddingComposite\n",
    "from collections import defaultdict\n",
    "from matplotlib import pyplot as plt\n",
    "import networkx as nx"
   ]
  },
  {
   "cell_type": "markdown",
   "id": "acdb6736-250c-464a-8217-4673ae899178",
   "metadata": {},
   "source": [
    "# The Maximum Cut Problem\n",
    "\n",
    "Given a graph $G = (\\mathcal{V},\\mathcal{E})$, the maximum cut problem lies in partitioning the set of vertices $\\mathcal{V}$ into two subsets $\\mathcal{S}$ and $\\mathcal{T}$ such that the number of edges between the subsets, i.e., the cut size $|\\mathcal{C}|$, is maximized. We define the cut size as\n",
    "$$\n",
    "    |\\mathcal{C}| = \\sum_{(i,j)\\in\\mathcal{E}} \\text{cut}_{ij},\n",
    "$$\n",
    "where\n",
    "$$\n",
    "    \\text{cut}_{ij} = \n",
    "    \\begin{cases}\n",
    "        0\\quad\\text{if } (i,j \\in\\mathcal{S}) \\lor (i,j \\in\\mathcal{T}),\n",
    "        \\\\\n",
    "        1\\quad\\text{if } (i \\in\\mathcal{S}\\land j\\in\\mathcal{T}) \\lor (i \\in\\mathcal{T}\\land j\\in\\mathcal{S}).\n",
    "    \\end{cases}\n",
    "$$\n",
    "So, the problem reads:\n",
    "$$\n",
    "    \\max \\sum_{(i,j)\\in\\mathcal{E}} \\text{cut}_{ij}\n",
    "$$\n",
    "\n",
    "Next, the goal is to represent this problem as an Ising model. To that end, we introduce spin variables $s_i\\in\\{-1,+1\\}$ for each vertex $i$. \n",
    "\n",
    "## Step 1\n",
    "Formulate the problem above as an Ising model.\n",
    "\n",
    "**Hint:** Remember how the objective function was defined for the \"2-Bit Disagree Problem\",\n",
    "$$\n",
    "    J(s_1,s_2)\n",
    "    =  \n",
    "    \\frac{1+s_1 s_2}{2}\n",
    "    =\n",
    "    \\begin{cases}\n",
    "        0\\text{ if }s_1\\neq s_2,\n",
    "        \\\\\n",
    "        1\\text{ if }s_1=s_2,\n",
    "    \\end{cases}\n",
    "$$\n",
    "and connect it to the definition of $\\text{cut}_{ij}$.\n",
    "<details>\n",
    "    <summary>Solution:</summary>\n",
    "$$\n",
    "    \\text{cut}_{ij} = \\frac{1-s_i s_j}{2}\n",
    "    =\n",
    "    \\begin{cases}\n",
    "        0\\text{ if }s_1 = s_2 \\Leftrightarrow i,j \\text{ in the same subset} ,\n",
    "        \\\\\n",
    "        1\\text{ if }s_1\\neq s_2 \\Leftrightarrow i,j \\text{ in different subsets}.\n",
    "    \\end{cases}\n",
    "$$\n",
    "\n",
    "$$\n",
    "    \\max \\sum_{(i,j)\\in\\mathcal{E}} \\text{cut}_{ij} \\Leftrightarrow \\min - \\left(\\sum_{(i,j)\\in\\mathcal{E}} \\text{cut}_{ij}\\right)\n",
    "$$\n",
    "\n",
    "$$\n",
    "    H_{\\text{Ising}} = \\sum_{(i,j)\\in\\mathcal{E}} \\frac{s_i s_j}{2}\n",
    "$$\n",
    "</details>\n",
    "\n",
    "## Step 2\n",
    "\n",
    "The Ising model formulated in spin variables $s_i\\in\\{-1,+1\\}$ can be transformed into a QUBO problem using binary variables $q_i\\in\\{0,1\\}$ by the change of variables:\n",
    "$$\n",
    "    s_i = 1 - 2q_i.\n",
    "$$\n",
    "Derive how the QUBO matrix $\\boldsymbol{Q}$ is constructed.\n",
    "<details>\n",
    "    <summary>Solution:</summary>\n",
    "\n",
    "    \n",
    "Starting from the contribution from each edge $(i,j)$ in the Ising model and performing the change of variables,\n",
    "$$\n",
    "    \\frac{s_i s_j}{2} = \\frac{1}{2} (1-2q_i)(1-2q_j) = \\frac{1}{2} (1-2q_i-2q_j+4q_iq_j) = \\frac{1}{2} - q_i -q_j + 2q_i q_j,\n",
    "$$\n",
    "the QUBO problem can be defined through the QUBO matrix $\\boldsymbol{Q}$:\n",
    "$$\n",
    " H_{\\text{QUBO}} = \\boldsymbol{q}^T\\boldsymbol{Q}\\boldsymbol{q},\n",
    "$$\n",
    "with contributions from each edge $(i,j)$:\n",
    "$$\n",
    "  Q_{ii} = Q_{jj} = -1,\\, Q_{ij}= 2.\n",
    "$$\n",
    "\n",
    "Note that we ignored the constant energy offset.\n",
    "\n",
    "\n",
    "</details>\n",
    "\n",
    "## Note\n",
    "The following code is based on the example from [https://github.com/dwave-examples/maximum-cut/tree/master](https://github.com/dwave-examples/maximum-cut/tree/master)"
   ]
  },
  {
   "cell_type": "markdown",
   "id": "4d1b6ec0-1cef-4122-9281-734e7788ab08",
   "metadata": {},
   "source": [
    "## Graph Definition"
   ]
  },
  {
   "cell_type": "code",
   "execution_count": null,
   "id": "a9ec90a0-cbb4-4020-8e7e-e8b3f9aea630",
   "metadata": {},
   "outputs": [],
   "source": [
    "# Create an empty graph\n",
    "G = nx.Graph()\n",
    "\n",
    "# Add edges to the graph, which automatically adds the nodes\n",
    "G.add_edges_from([(1,2),(1,3),(2,4),(3,4),(3,5),(4,5)])"
   ]
  },
  {
   "cell_type": "markdown",
   "id": "7ca94a1c-4e80-475a-8958-59ed83265156",
   "metadata": {},
   "source": [
    "## Definition of QUBO Problem"
   ]
  },
  {
   "cell_type": "markdown",
   "id": "9055ba4b-a051-4dc8-93e5-dcbac363fc6e",
   "metadata": {},
   "source": [
    "We can provide the QUBO matrix $Q$ as a dictionary. Initially, we create an empty dictionary."
   ]
  },
  {
   "cell_type": "code",
   "execution_count": null,
   "id": "c298332d-e55c-4d17-a8b6-0034f5983689",
   "metadata": {},
   "outputs": [],
   "source": [
    "Q = defaultdict(int)"
   ]
  },
  {
   "cell_type": "markdown",
   "id": "3164e4ab-04b4-491d-b5ba-7301c0b77b10",
   "metadata": {},
   "source": [
    "In the next step, we iterate over all edges in $G$ and add the corresponding contributions to $Q$:"
   ]
  },
  {
   "cell_type": "code",
   "execution_count": null,
   "id": "526bf6fd-6421-4850-afb8-ab097fa502c7",
   "metadata": {},
   "outputs": [],
   "source": [
    "for i, j in G.edges:\n",
    "    Q[(i,i)]+= -1\n",
    "    Q[(j,j)]+= -1\n",
    "    Q[(i,j)]+= 2"
   ]
  },
  {
   "cell_type": "code",
   "execution_count": null,
   "id": "ffe54ceb-db26-47c5-ba10-f6020ecdbfff",
   "metadata": {},
   "outputs": [],
   "source": [
    "print(Q)"
   ]
  },
  {
   "cell_type": "markdown",
   "id": "153dbeb9-4c57-472f-8daa-5c41c66d22e1",
   "metadata": {},
   "source": [
    "## Solution of the QUBO Problem"
   ]
  },
  {
   "cell_type": "code",
   "execution_count": null,
   "id": "b7268b76-685f-49a9-8def-94df78982f94",
   "metadata": {},
   "outputs": [],
   "source": [
    "num_reads = 10\n",
    "sampler = EmbeddingComposite(DWaveSampler())\n",
    "sampleset = sampler.sample_qubo(Q, num_reads=num_reads, label='Maximum Cut Problem')"
   ]
  },
  {
   "cell_type": "code",
   "execution_count": null,
   "id": "5b8d6463-1b42-4d3a-9276-f127d3f1d762",
   "metadata": {},
   "outputs": [],
   "source": [
    "print(sampleset)"
   ]
  },
  {
   "cell_type": "markdown",
   "id": "d6077913-6c50-4cdf-81c5-acc0ccf06cf1",
   "metadata": {},
   "source": [
    "## Analysis of the Results"
   ]
  },
  {
   "cell_type": "code",
   "execution_count": null,
   "id": "1c4acca3-fcb6-4dfd-aa5f-c60e6c511acf",
   "metadata": {},
   "outputs": [],
   "source": [
    "print('-' * 60)\n",
    "print('{:>15s}{:>15s}{:^15s}{:^15s}'.format('Set 0','Set 1','Energy','Cut Size'))\n",
    "print('-' * 60)\n",
    "for sample, E in sampleset.data(fields=['sample','energy']):\n",
    "    S0 = [k for k,v in sample.items() if v == 0]\n",
    "    S1 = [k for k,v in sample.items() if v == 1]\n",
    "    print('{:>15s}{:>15s}{:^15s}{:^15s}'.format(str(S0),str(S1),str(E),str(int(-1*E))))\n"
   ]
  },
  {
   "cell_type": "code",
   "execution_count": null,
   "id": "0334771a-640f-4466-87f9-602384d1017c",
   "metadata": {},
   "outputs": [],
   "source": [
    "lut = sampleset.first.sample\n",
    "\n",
    "# Interpret the best result in terms of nodes and edges\n",
    "S0 = [node for node in G.nodes if not lut[node]]\n",
    "S1 = [node for node in G.nodes if lut[node]]\n",
    "cut_edges = [(u, v) for u, v in G.edges if lut[u]!=lut[v]]\n",
    "uncut_edges = [(u, v) for u, v in G.edges if lut[u]==lut[v]]\n",
    "\n",
    "# Display the best result\n",
    "pos = nx.spring_layout(G)\n",
    "nx.draw_networkx_nodes(G, pos, nodelist=S0, node_color='r', node_size=800)\n",
    "nx.draw_networkx_nodes(G, pos, nodelist=S1, node_color='c', node_size=800)\n",
    "nx.draw_networkx_edges(G, pos, edgelist=cut_edges, style='dashdot', alpha=0.5, width=5)\n",
    "nx.draw_networkx_edges(G, pos, edgelist=uncut_edges, style='solid', width=5)\n",
    "nx.draw_networkx_labels(G, pos, font_size=20)\n",
    "\n",
    "filename = \"maxcut_plot.png\"\n",
    "plt.savefig(filename, bbox_inches='tight')\n",
    "print(\"\\nYour plot is saved to {}\".format(filename))\n",
    "plt.close()"
   ]
  },
  {
   "cell_type": "code",
   "execution_count": null,
   "id": "919598ae-81e1-4cd3-8418-adc4cfb65fea",
   "metadata": {},
   "outputs": [],
   "source": [
    "dwave.inspector.show(sampleset)"
   ]
  },
  {
   "cell_type": "code",
   "execution_count": null,
   "id": "dca6a0c6-e1b1-41d3-9e0b-85e030287817",
   "metadata": {},
   "outputs": [],
   "source": []
  }
 ],
 "metadata": {
  "kernelspec": {
   "display_name": "Python 3 (ipykernel)",
   "language": "python",
   "name": "python3"
  },
  "language_info": {
   "codemirror_mode": {
    "name": "ipython",
    "version": 3
   },
   "file_extension": ".py",
   "mimetype": "text/x-python",
   "name": "python",
   "nbconvert_exporter": "python",
   "pygments_lexer": "ipython3",
   "version": "3.11.3"
  }
 },
 "nbformat": 4,
 "nbformat_minor": 5
}
