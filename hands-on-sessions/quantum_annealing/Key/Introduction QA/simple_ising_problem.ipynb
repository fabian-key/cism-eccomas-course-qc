{
 "cells": [
  {
   "cell_type": "code",
   "execution_count": null,
   "id": "6acf8ebd-f8aa-49d3-ac17-a2c89bea70ce",
   "metadata": {},
   "outputs": [],
   "source": [
    "from dimod import ExactSolver\n",
    "import dwave.inspector\n",
    "from dwave.samplers import SimulatedAnnealingSampler\n",
    "from dwave.system import EmbeddingComposite, DWaveSampler\n",
    "import matplotlib.pyplot as plt\n",
    "import networkx as nx\n"
   ]
  },
  {
   "cell_type": "code",
   "execution_count": null,
   "id": "eea2da0a-bb3e-4073-9666-42fe22d90a33",
   "metadata": {},
   "outputs": [],
   "source": [
    "def visualize_sample(sampleset, sample_index=0):\n",
    "    \"\"\"\n",
    "    Visualize a single sample from a D-Wave SampleSet in spin variables.\n",
    "\n",
    "    Parameters:\n",
    "        sampleset (dimod.SampleSet): The sample set containing spin samples.\n",
    "        sample_index (int): Which sample in the set to visualize.\n",
    "    \"\"\"\n",
    "    \n",
    "    if sample_index >= len(sampleset):\n",
    "        raise IndexError(f\"Sample index {sample_index} out of range. SampleSet contains {len(sampleset)} samples.\")\n",
    "        \n",
    "    sample = sampleset.record[sample_index].sample\n",
    "    variables = sampleset.variables\n",
    "    energy = sampleset.record.energy[sample_index]\n",
    "\n",
    "    # Create graph for visualization.\n",
    "    G = nx.Graph()\n",
    "    \n",
    "    # Add nodes with spin result. \n",
    "    for idx, var in enumerate(variables):\n",
    "        spin = sample[idx]\n",
    "        G.add_node(var, spin=spin)\n",
    "        \n",
    "    # Add edges based on coupling terms.\n",
    "    for (u, v), coupling in J.items():\n",
    "        G.add_edge(u, v, weight=coupling)\n",
    "\n",
    "    pos = nx.circular_layout(G)\n",
    "    colors = ['red' if G.nodes[n]['spin'] == 1 else 'blue' for n in G.nodes]\n",
    "    labels = {n: f\"{n}\\n↑\" if G.nodes[n]['spin'] == 1 else f\"{n}\\n↓\" for n in G.nodes}\n",
    "\n",
    "    nx.draw(G, pos, with_labels=True, labels=labels, node_color=colors, node_size=1200, font_size=14, font_color='white')\n",
    "    edge_labels = nx.get_edge_attributes(G, 'weight')\n",
    "    nx.draw_networkx_edge_labels(G, pos, edge_labels=edge_labels, font_size=14)\n",
    "\n",
    "    plt.title(f\"Sample {sample_index} | Energy: {energy:.2f}\")\n",
    "\n",
    "    plt.show()"
   ]
  },
  {
   "cell_type": "code",
   "execution_count": null,
   "id": "9f4304f7-9bc1-4b7d-ab36-c2b1aefb3c8d",
   "metadata": {},
   "outputs": [],
   "source": [
    "def plot_energy_histogram(sampleset, bins=20):\n",
    "    energies = sampleset.record.energy\n",
    "    occurrences = sampleset.record.num_occurrences\n",
    "\n",
    "    ylabel = \"Occurrences\"\n",
    "    weights = occurrences\n",
    "    title = f\"Energy Histogram (num_reads = {sum(occurrences)})\"\n",
    "    color = 'skyblue'\n",
    "\n",
    "    plt.hist(energies, weights=weights, bins=bins, color=color, edgecolor='black')\n",
    "    plt.xlabel(\"Energy\")\n",
    "    plt.ylabel(ylabel)\n",
    "    plt.title(title)\n",
    "    plt.grid(True)\n",
    "    plt.show()"
   ]
  },
  {
   "cell_type": "markdown",
   "id": "02bf7f65-87fb-4b38-bce5-587428304c28",
   "metadata": {},
   "source": [
    "# A Simple Ising Problem\n",
    "\n",
    "The Hamiltonian for the classical Ising problem reads\n",
    "\n",
    "$$\n",
    " H_{\\text{Ising}}(\\boldsymbol{s}) = \\sum_{i=1}^N h_i s_i + \\sum_{i=1}^N \\sum_{j=i+1}^N J_{ij}s_i s_j,\n",
    "$$\n",
    "with spin variables $s_i\\in\\{-1,+1\\}$.\n",
    "To find the lowest-energy state, we will consider \n",
    "$$\n",
    "\\min_{\\boldsymbol{s}} H_{\\text{Ising}}(\\boldsymbol{s}). \n",
    "$$\n",
    "\n",
    "In particular, we had\n",
    "$$\n",
    "    H_{\\text{Ising}}(s_1, s_2, s_3) = 6 s_1 - 5 s_2 + 3 s_3 + 20 s_1 s_2 - 8 s_2 s_3 + 7 s_1 s_3,\n",
    "$$\n",
    "with biases $h_i$ and coupling strengths $J_{ij}$ as follows:\n",
    "| i | $h_i$ |\n",
    "|---|-------|\n",
    "| 1 | 6 | \n",
    "| 2 |-5 | \n",
    "| 3 | 3 |\n",
    "\n",
    "| i | j | $J_{ij}$ |\n",
    "|---|---|----------|\n",
    "| 1 | 2 | 20       | \n",
    "| 2 | 3 | -8       |\n",
    "| 1 | 3 | 7        |\n",
    "\n",
    "## The Problem Definition\n",
    "\n",
    "To define the Ising problem, the coefficients $h_i$ and $J_{ij}$ can be provided via Python dictionaries:\n",
    "\n",
    "`h = {\"s1\": ..., ...}`,\n",
    "\n",
    "and\n",
    "\n",
    "`J = {(\"s1\", \"s2\"): ..., ...}`.\n"
   ]
  },
  {
   "cell_type": "code",
   "execution_count": null,
   "id": "f13c36ea-7005-4914-b1b3-cb5f2d80f1c8",
   "metadata": {},
   "outputs": [],
   "source": [
    "h = {\"s1\": ..., ...}\n",
    "J = {(\"s1\", \"s2\"): ..., ...}"
   ]
  },
  {
   "cell_type": "markdown",
   "id": "fc135c87-8486-4f63-a3f2-0c80cf98cc86",
   "metadata": {},
   "source": [
    "<details>\n",
    "    <summary>Solution:</summary>\n",
    "    \n",
    "```\n",
    "    \n",
    "h = {\"s1\": 6, \"s2\": -5, \"s3\": 3}\n",
    "J = {(\"s1\", \"s2\"): 20, (\"s2\", \"s3\"): -8, (\"s1\", \"s3\"): 7}\n",
    "\n",
    "```\n",
    "\n",
    "</details>"
   ]
  },
  {
   "cell_type": "markdown",
   "id": "6599bbf6-cb55-4179-ad64-aaa8e469aaf3",
   "metadata": {},
   "source": [
    "## Brute Force Sampling\n",
    "For this small problem ($N=3$), we can sample, i.e., evaluate the Hamiltonian $H_{\\text{Ising}}(s_1, s_2, s_3)$, for all $2^3=8$ combinations using the `ExactSolver()` and the `sample_ising(h,J)` function:"
   ]
  },
  {
   "cell_type": "code",
   "execution_count": null,
   "id": "3837004c-937f-4a9d-b8a9-be4db70a9f1d",
   "metadata": {},
   "outputs": [],
   "source": [
    "sampler_BF = ExactSolver()"
   ]
  },
  {
   "cell_type": "code",
   "execution_count": null,
   "id": "4a379f70-0ab1-4a09-9549-5262d4b2ad63",
   "metadata": {},
   "outputs": [],
   "source": [
    "sampleset_BF = sampler_BF.sample_ising(h, J)"
   ]
  },
  {
   "cell_type": "markdown",
   "id": "66556138-368d-445f-a8d7-384c135adfad",
   "metadata": {},
   "source": [
    "The outcome is a sample set containing the values for $s_1, s_2, s_3$ and the corresponding energy $H_{\\text{Ising}}(s_1, s_2, s_3)$."
   ]
  },
  {
   "cell_type": "code",
   "execution_count": null,
   "id": "fcc9dac1-a474-4305-a0fa-3ced6880107a",
   "metadata": {},
   "outputs": [],
   "source": [
    "print(sampleset_BF)"
   ]
  },
  {
   "cell_type": "markdown",
   "id": "71cb6bdc-5eb3-41e7-bf70-de471c0f2817",
   "metadata": {},
   "source": [
    "We illustrate a specific sample with the index `sample_index` as follows:"
   ]
  },
  {
   "cell_type": "code",
   "execution_count": null,
   "id": "8815ebd5-7702-4f62-ac6b-b9983673a640",
   "metadata": {},
   "outputs": [],
   "source": [
    "%matplotlib inline\n",
    "visualize_sample(sampleset_BF, sample_index=4)"
   ]
  },
  {
   "cell_type": "markdown",
   "id": "47e1b743-53fa-4b8b-8104-01d2bdccfdb2",
   "metadata": {},
   "source": [
    "## Simulated Annealing\n",
    "Next, we will use simulated annealing (SA) to solve $\\min_{\\boldsymbol{s}} H_{\\text{Ising}}(\\boldsymbol{s})$, i.e., to find the minimum energy state. We perform `num_reads_SA` runs."
   ]
  },
  {
   "cell_type": "code",
   "execution_count": null,
   "id": "6f66bf5e-0f68-4118-aedc-11adb59f775a",
   "metadata": {},
   "outputs": [],
   "source": [
    "num_reads_SA = 100"
   ]
  },
  {
   "cell_type": "code",
   "execution_count": null,
   "id": "ff3af7fe-1e35-451a-818e-6caaff152f2f",
   "metadata": {},
   "outputs": [],
   "source": [
    "sampler_SA = SimulatedAnnealingSampler()"
   ]
  },
  {
   "cell_type": "code",
   "execution_count": null,
   "id": "4f780b98-573e-403f-a35e-5977fb388b2d",
   "metadata": {},
   "outputs": [],
   "source": [
    "sampleset_SA = sampler_SA.sample_ising(h, J, num_reads=num_reads_SA)\n",
    "sampleset_SA = sampleset_SA.aggregate()"
   ]
  },
  {
   "cell_type": "markdown",
   "id": "c6a52ac7-29fc-4fa9-a643-afad19aa7837",
   "metadata": {},
   "source": [
    "The sample set again contains the values for $s_1, s_2, s_3$ and the corresponding energy $H_{\\text{Ising}}(s_1, s_2, s_3)$. In contrast to the brute force sampling, multiple reads can lead to the same result."
   ]
  },
  {
   "cell_type": "code",
   "execution_count": null,
   "id": "411bcbe0-85e6-4332-b187-8c4489928453",
   "metadata": {},
   "outputs": [],
   "source": [
    "print(sampleset_SA)"
   ]
  },
  {
   "cell_type": "code",
   "execution_count": null,
   "id": "dd0b9fba-6fd8-4b19-9320-68ffc3660026",
   "metadata": {},
   "outputs": [],
   "source": [
    "%matplotlib inline\n",
    "plot_energy_histogram(sampleset_SA)"
   ]
  },
  {
   "cell_type": "code",
   "execution_count": null,
   "id": "e047d6fc-4d72-4fef-9c2f-06cd336f2794",
   "metadata": {},
   "outputs": [],
   "source": [
    "%matplotlib inline\n",
    "visualize_sample(sampleset_SA, sample_index=0)"
   ]
  },
  {
   "cell_type": "markdown",
   "id": "dd370a75-ac1b-4d8e-b200-8bfaf288a0e7",
   "metadata": {},
   "source": [
    "## Quantum Annealing\n",
    "Finally, we use quantum annealing (QA) to sample minimum energy states of $H_{\\text{Ising}}(\\boldsymbol{s})$, in particular the `DWaveSampler()`. To perform the minor embedding and map the problem graph defined by $h_i$ and $J_{ij}$ to the solver, the `EmbeddingComposite` is used (different embedding strategies are explained [here](https://docs.dwavequantum.com/en/latest/ocean/api_ref_system/composites.html#embedding)). Then, we perform `num_reads_QA` reads using QA."
   ]
  },
  {
   "cell_type": "code",
   "execution_count": null,
   "id": "346bac28-3177-41ca-93bb-b4e41ce71236",
   "metadata": {},
   "outputs": [],
   "source": [
    "num_reads_QA = 100"
   ]
  },
  {
   "cell_type": "code",
   "execution_count": null,
   "id": "e0cc4fa4-4c57-42f7-8bf9-6f5728092e58",
   "metadata": {},
   "outputs": [],
   "source": [
    "sampler_QA = EmbeddingComposite(DWaveSampler())"
   ]
  },
  {
   "cell_type": "code",
   "execution_count": null,
   "id": "effbb9c6-1e0b-45a4-8f94-c86413eb6ac9",
   "metadata": {},
   "outputs": [],
   "source": [
    "sampleset_QA = sampler_QA.sample_ising(h, J, num_reads=num_reads_QA, label='Simple Ising Problem')"
   ]
  },
  {
   "cell_type": "markdown",
   "id": "6b763369-da8d-4dea-83d3-f6cc3a660955",
   "metadata": {},
   "source": [
    "The resulting sample set has the same structure as before, and identical results for different reads are collected (cf. `num_oc.` column).\n",
    "Note that not all results may be the ground state of $H_{\\text{Ising}}(\\boldsymbol{s})$ due to the probabilistic nature of QA."
   ]
  },
  {
   "cell_type": "code",
   "execution_count": null,
   "id": "588779bf-8069-44ec-b77a-a5023b55bd8a",
   "metadata": {},
   "outputs": [],
   "source": [
    "print(sampleset_QA)"
   ]
  },
  {
   "cell_type": "code",
   "execution_count": null,
   "id": "486af25c-7a54-41a2-9f54-cd99b6f6e1cd",
   "metadata": {},
   "outputs": [],
   "source": [
    "%matplotlib inline\n",
    "plot_energy_histogram(sampleset_QA)"
   ]
  },
  {
   "cell_type": "code",
   "execution_count": null,
   "id": "94684d6a-3421-4560-9a8e-8af1dc535179",
   "metadata": {},
   "outputs": [],
   "source": [
    "%matplotlib inline\n",
    "visualize_sample(sampleset_QA, sample_index=0)"
   ]
  },
  {
   "cell_type": "markdown",
   "id": "c6508f4e-6288-4240-8e38-2d1126b17193",
   "metadata": {},
   "source": [
    "### DWave Problem Inspector\n",
    "The *DWave Problem Inspector* can be used to analyze the returned samples. It shows the underlying problem as an Ising model or QUBO on the left (a mouse-over menu is hidden at the left edge) and the energy histogram on the right. You can also switch to viewing the embedded problem on the QPU (click on the \"2\" in the top right corner). "
   ]
  },
  {
   "cell_type": "code",
   "execution_count": null,
   "id": "8c352323-8721-4733-82c7-d8187774499a",
   "metadata": {},
   "outputs": [],
   "source": [
    "dwave.inspector.show(sampleset_QA)"
   ]
  },
  {
   "cell_type": "markdown",
   "id": "91237696-2707-4882-93f1-f2e06df5582c",
   "metadata": {},
   "source": [
    "## Potential Tasks\n",
    "   - Try different values for `num_reads_SA` and `num_reads_QA`\n",
    "   - Repeat the QA sampling multiple times and keep track of the individual outcomes\n",
    "   - Compare the energy histograms for SA and QA when `num_reads_SA` equals `num_reads_QA`\n",
    "   - Extend the problem by introducing additional nodes and/or edges, and study the effect on the embedding"
   ]
  }
 ],
 "metadata": {
  "kernelspec": {
   "display_name": "Python 3 (ipykernel)",
   "language": "python",
   "name": "python3"
  },
  "language_info": {
   "codemirror_mode": {
    "name": "ipython",
    "version": 3
   },
   "file_extension": ".py",
   "mimetype": "text/x-python",
   "name": "python",
   "nbconvert_exporter": "python",
   "pygments_lexer": "ipython3",
   "version": "3.11.3"
  }
 },
 "nbformat": 4,
 "nbformat_minor": 5
}
