{
 "cells": [
  {
   "cell_type": "code",
   "execution_count": 1,
   "id": "f5b5d7de",
   "metadata": {},
   "outputs": [],
   "source": [
    "import os\n",
    "\n",
    "from datetime import datetime\n",
    "from engioptiqa import AnnealingSolverDWave, Rod1D, StructuralAnalysisProblem\n",
    "from matplotlib import pyplot as plt\n",
    "import numpy as np\n"
   ]
  },
  {
   "cell_type": "markdown",
   "id": "18967099",
   "metadata": {},
   "source": [
    "# TODO: Handle path in JupyterLab"
   ]
  },
  {
   "cell_type": "code",
   "execution_count": 2,
   "id": "e8338964",
   "metadata": {},
   "outputs": [
    {
     "name": "stdout",
     "output_type": "stream",
     "text": [
      "/usr2/key/Projects/QuantumAnnealing/EngiOptiQA\n",
      "/usr2/key/Projects/QuantumAnnealing/CISM\n"
     ]
    }
   ],
   "source": [
    "notebook_path = os.path.abspath(\"\")\n",
    "notebook_directory = os.path.dirname(notebook_path)\n",
    "notebook_directory = '/usr2/key/Projects/QuantumAnnealing/CISM'\n",
    "print(notebook_path)\n",
    "print(notebook_directory)"
   ]
  },
  {
   "cell_type": "code",
   "execution_count": 3,
   "id": "cb9091d8",
   "metadata": {},
   "outputs": [],
   "source": [
    "# Create an output folder with current time stamp.\n",
    "timestamp = datetime.now().strftime(\"%Y_%m_%d_%H-%M-%S\")\n",
    "output_path = f\"{timestamp}_output\"\n",
    "output_path = os.path.join(notebook_directory, output_path)\n",
    "os.makedirs(output_path)\n",
    "\n",
    "output_path_amplify = os.path.join(output_path,'amplify')\n",
    "output_path_dwave = os.path.join(output_path,'dwave')\n"
   ]
  },
  {
   "cell_type": "markdown",
   "id": "82e9f767",
   "metadata": {},
   "source": [
    "# Solving a Structural Analysis Problem with EngiOptiQA\n",
    "\n",
    "In this notebook, you can solve the structural analysis problem presented in [Key and Freinberger (2024)](https://doi.org/10.3390/math12030482) using *Simulated Annealing (SA)*.\n",
    "\n",
    "## Suggested Steps\n",
    "   1. Reproduce the results from the paper\n",
    "   2. Study the effect of changing \n",
    "      - the number of qubits for representig the real-valued variables (`n_qubits_per_node`)\n",
    "      - the penalty weight for the constraint of static admissibility (`penalty_weight_dwave`)\n",
    "      - the number of runs of the simulated annealing algorithm (`num_reads`)\n",
    "      - ...\n"
   ]
  },
  {
   "cell_type": "markdown",
   "id": "3a71c773",
   "metadata": {},
   "source": [
    "## The Structural Analysis Problem"
   ]
  },
  {
   "cell_type": "code",
   "execution_count": 4,
   "id": "838a8fa0",
   "metadata": {},
   "outputs": [
    {
     "name": "stdout",
     "output_type": "stream",
     "text": [
      "Folder '/usr2/key/Projects/QuantumAnnealing/CISM/2025_04_24_14-17-03_output/dwave' created successfully.\n",
      "Structural Analysis Problem\n",
      "\n"
     ]
    }
   ],
   "source": [
    "# Define the structural analysis problem for one-dimensional rod under self-weight loading through body force density g.\n",
    "g = 2.5\n",
    "# Rod with n_comp components and of length L.\n",
    "n_comp = 5; L = 1.5; A = 0.25; rod_1d = Rod1D(n_comp, L, A)\n",
    "\n",
    "analysis_problem_dwave = StructuralAnalysisProblem(rod_1d, g, output_path=output_path_dwave)"
   ]
  },
  {
   "cell_type": "markdown",
   "id": "261b0692",
   "metadata": {},
   "source": [
    "### Analytical Solution"
   ]
  },
  {
   "cell_type": "code",
   "execution_count": 5,
   "id": "3e09a338",
   "metadata": {},
   "outputs": [
    {
     "name": "stdout",
     "output_type": "stream",
     "text": [
      "+--------------------------------+----------------------+------------------+\n",
      "|         Cross Sections         | Complementary Energy |    Compliance    |\n",
      "+--------------------------------+----------------------+------------------+\n",
      "| (0.25, 0.25, 0.25, 0.25, 0.25) |  0.878906250000000   | 1.75781250000000 |\n",
      "+--------------------------------+----------------------+------------------+\n",
      "\n",
      "Analytic Force: [0.9375 - 0.625*x, 0.9375 - 0.625*x, 0.9375 - 0.625*x, 0.9375 - 0.625*x, 0.9375 - 0.625*x]\n",
      "\n"
     ]
    }
   ],
   "source": [
    "# Compute analytical solution.\n",
    "analysis_problem_dwave.compute_analytical_solution()"
   ]
  },
  {
   "cell_type": "markdown",
   "id": "5f99e028",
   "metadata": {},
   "source": [
    "### Numerical Solution"
   ]
  },
  {
   "cell_type": "markdown",
   "id": "9ef5f6bd",
   "metadata": {},
   "source": [
    "#### DWave"
   ]
  },
  {
   "cell_type": "markdown",
   "id": "d2e32d74",
   "metadata": {},
   "source": [
    "# TODO Remove token files when running in JupyterLab"
   ]
  },
  {
   "cell_type": "code",
   "execution_count": 6,
   "id": "173f8828",
   "metadata": {},
   "outputs": [
    {
     "name": "stdout",
     "output_type": "stream",
     "text": [
      "Use simulated_annealing solver: simulated annealing\n"
     ]
    }
   ],
   "source": [
    "# Setup the annealing solvers.\n",
    "token_files = {\n",
    "    'DWave': None,\n",
    "    'Amplify': '/student/21/e12102368/token_Fixstars_Georg.txt'\n",
    "    }\n",
    "proxy='http://proxy.ilsb.tuwien.ac.at:3128'\n",
    "\n",
    "annealing_solver_dwave = AnnealingSolverDWave(token_files['DWave'], proxy=proxy)\n",
    "annealing_solver_dwave.setup_solver(solver_type='simulated_annealing')"
   ]
  },
  {
   "cell_type": "markdown",
   "id": "77c7df17",
   "metadata": {},
   "source": [
    "#### Discretization through Real-Valued Nodal Coefficients"
   ]
  },
  {
   "cell_type": "code",
   "execution_count": 7,
   "id": "ff23ad82",
   "metadata": {},
   "outputs": [],
   "source": [
    "# Discretization.\n",
    "binary_representation = 'normalized'\n",
    "n_qubits_per_node = 10\n",
    "\n",
    "analysis_problem_dwave.generate_discretization(n_qubits_per_node, binary_representation)"
   ]
  },
  {
   "cell_type": "markdown",
   "id": "dc7e116b",
   "metadata": {},
   "source": [
    "#### QUBO Formulation"
   ]
  },
  {
   "cell_type": "code",
   "execution_count": 8,
   "id": "8fb6a24c",
   "metadata": {},
   "outputs": [
    {
     "name": "stdout",
     "output_type": "stream",
     "text": [
      "Effective penalty weight: 62500.0\n",
      "\n",
      "Number of input qubits: 50\n",
      "Number of logical qubits: 50\n",
      "\n"
     ]
    }
   ],
   "source": [
    "# QUBO formulation.\n",
    "penalty_weight_dwave = 62.5e3 # effective penalty weight\n",
    "analysis_problem_dwave.generate_qubo_formulation(penalty_weight=penalty_weight_dwave)\n",
    "analysis_problem_dwave.visualize_qubo_matrix_pattern(highlight_interactions=True, save_fig=False, save_tikz=False)"
   ]
  },
  {
   "cell_type": "markdown",
   "id": "9cb73eef",
   "metadata": {},
   "source": [
    "#### Transform the Problem from the Amplify SDK to the DWave SDK"
   ]
  },
  {
   "cell_type": "code",
   "execution_count": 9,
   "id": "c7912659",
   "metadata": {},
   "outputs": [],
   "source": [
    "# Transform Amplify problem for DWave\n",
    "lp_file_name = 'structural_analysis_problem_sa.lp'\n",
    "lp_file_path = os.path.join(output_path, lp_file_name)\n",
    "analysis_problem_dwave.transform_to_dwave(lp_file_path)"
   ]
  },
  {
   "cell_type": "markdown",
   "id": "fa89ea72",
   "metadata": {},
   "source": [
    "#### Perform the Annealing"
   ]
  },
  {
   "cell_type": "code",
   "execution_count": 10,
   "id": "0e7b692c",
   "metadata": {},
   "outputs": [
    {
     "name": "stdout",
     "output_type": "stream",
     "text": [
      "Number of solutions: 100\n"
     ]
    }
   ],
   "source": [
    "# Solve problem.\n",
    "annealing_solver_dwave.solve_qubo_problem(\n",
    "    analysis_problem_dwave,\n",
    "    num_reads=100,\n",
    "    label = f\"Structural Analysis Problem\",\n",
    "    )"
   ]
  },
  {
   "cell_type": "markdown",
   "id": "0d6e2176",
   "metadata": {},
   "source": [
    "#### Analyze the Raw Results"
   ]
  },
  {
   "cell_type": "code",
   "execution_count": 11,
   "id": "6d2645a6",
   "metadata": {},
   "outputs": [
    {
     "name": "stdout",
     "output_type": "stream",
     "text": [
      "Best solution (minimum objective):\n",
      "L2 Error 0.0009775171065493197 0.0009775171065493197\n",
      "H1 Error 0.000977517106549284 0.000977517106549284\n",
      "\n"
     ]
    }
   ],
   "source": [
    "solutions_dwave = analysis_problem_dwave.analyze_results(result_max=0)"
   ]
  },
  {
   "cell_type": "code",
   "execution_count": 12,
   "id": "7354437b",
   "metadata": {},
   "outputs": [],
   "source": [
    "errors_l2 = [d['error_l2_rel'] for d in solutions_dwave]\n",
    "errors_h1 = [d['error_h1_rel'] for d in solutions_dwave]\n",
    "objectives = [d['objective'] for d in solutions_dwave]\n",
    "complementary_energy = [d['complementary_energy'] for d in solutions_dwave]\n",
    "complementary_energy_diff_rel = [np.abs(d['complementary_energy']-analysis_problem_dwave.PI_analytic)/np.abs(analysis_problem_dwave.PI_analytic) for d in solutions_dwave]\n",
    "constraints = [d['constraints'] for d in solutions_dwave]\n",
    "constraints_weighted = [penalty_weight_dwave*d['constraints'] for d in solutions_dwave]"
   ]
  },
  {
   "cell_type": "code",
   "execution_count": 13,
   "id": "508631ae",
   "metadata": {},
   "outputs": [],
   "source": [
    "i_min =np.argsort(objectives)\n",
    "i_sol = i_min[0]\n",
    "solution = solutions_dwave[i_sol]\n",
    "error_l2 = errors_l2[i_sol]\n",
    "error_h1 = errors_h1[i_sol]\n",
    "objective = objectives[i_sol]\n",
    "comp_energy_diff_rel =  complementary_energy_diff_rel[i_sol]"
   ]
  },
  {
   "cell_type": "code",
   "execution_count": 14,
   "id": "055e1abd",
   "metadata": {},
   "outputs": [
    {
     "data": {
      "image/png": "[encoded data removed]",
      "text/plain": [
       "<Figure size 640x480 with 1 Axes>"
      ]
     },
     "metadata": {},
     "output_type": "display_data"
    }
   ],
   "source": [
    "analysis_problem_dwave.plot_force(\n",
    "    analysis_problem_dwave.force_analytic, \n",
    "    solution['force'], \n",
    "    subtitle='Simulated Annealing',\n",
    "    file_name=os.path.join(output_path_dwave, 'force_simulated_annealing'),\n",
    "    save_fig = True,\n",
    "    save_tikz = False\n",
    ") "
   ]
  }
 ],
 "metadata": {
  "kernelspec": {
   "display_name": "Python 3 (ipykernel)",
   "language": "python",
   "name": "python3"
  },
  "language_info": {
   "codemirror_mode": {
    "name": "ipython",
    "version": 3
   },
   "file_extension": ".py",
   "mimetype": "text/x-python",
   "name": "python",
   "nbconvert_exporter": "python",
   "pygments_lexer": "ipython3",
   "version": "3.10.12"
  }
 },
 "nbformat": 4,
 "nbformat_minor": 5
}
