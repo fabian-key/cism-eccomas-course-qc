{
 "cells": [
  {
   "cell_type": "code",
   "execution_count": null,
   "id": "3eedc71f",
   "metadata": {},
   "outputs": [],
   "source": [
    "import sys\n",
    "sys.path.append('/home/jovyan/EngiOptiQA')"
   ]
  },
  {
   "cell_type": "code",
   "execution_count": null,
   "id": "73dcfc53",
   "metadata": {},
   "outputs": [],
   "source": [
    "import os\n",
    "from datetime import datetime\n",
    "\n",
    "from engioptiqa import AnnealingSolverDWave, DesignOptimizationProblem, Rod1D\n",
    "from matplotlib import pyplot as plt\n",
    "import numpy as np\n"
   ]
  },
  {
   "cell_type": "code",
   "execution_count": null,
   "id": "30fa5455",
   "metadata": {},
   "outputs": [],
   "source": [
    "def save_best_solutions(problem, criterion_name, solutions, n_max=3, output_path=None, suffix=''):\n",
    "\n",
    "    if criterion_name == 'error_l2_rel': \n",
    "        criterion = problem.errors_l2_rel \n",
    "    elif criterion_name == 'error_h1_rel':\n",
    "        criterion = problem.errors_h1_rel\n",
    "    elif criterion_name == 'objective':\n",
    "        criterion = problem.objectives\n",
    "    elif criterion_name == 'error_comp_energy':\n",
    "        criterion = problem.errors_comp_energy_rel\n",
    "    else:\n",
    "        raise Exception('Unknown criterion name', criterion_name)\n",
    "    \n",
    "    i_min =np.argsort(criterion)\n",
    "\n",
    "    for i, i_sol in enumerate(i_min):\n",
    "        if i > n_max:\n",
    "            break\n",
    "        solution = solutions[i_sol]\n",
    "        error_l2 = problem.errors_l2_rel[i_sol]\n",
    "        error_h1 = problem.errors_h1_rel[i_sol]\n",
    "        objective = problem.objectives[i_sol]\n",
    "        comp_energy = problem.comp_energies[i_sol]\n",
    "        error_comp_energy_rel =  problem.errors_comp_energy_rel[i_sol]\n",
    "        cs = problem.cs[i_sol]\n",
    "        subtitle = f'Design: {cs} Optimal: {problem.A_analytic}'\n",
    "        subtitle+= f'\\nL2-Error: {error_l2:.4e}'\n",
    "        subtitle+= f'\\nH1-Error: {error_h1:.4e}'\n",
    "        subtitle+= f'\\nObjective: {objective:.4e}'\n",
    "        subtitle+= f'\\nComp. Energy: {comp_energy:.6f} (e={error_comp_energy_rel:.3e})' \n",
    "        subtitle+= f'\\nComp. Energy Analytic {problem.PI_analytic:.6f}'\n",
    "        subtitle+= f'\\nConstraints: {solution[\"constraints\"]}'\n",
    "        problem.plot_force(\n",
    "            problem.force_analytic, \n",
    "            solution['force'], \n",
    "            subtitle=subtitle,\n",
    "            file_name = os.path.join(output_path, suffix+criterion_name+f'_{i}'),\n",
    "            save_fig = True,\n",
    "            save_tikz = False\n",
    "        )"
   ]
  },
  {
   "cell_type": "code",
   "execution_count": null,
   "id": "972d32a7",
   "metadata": {},
   "outputs": [],
   "source": [
    "# Create an output folder with current time stamp.\n",
    "notebook_directory = os.path.abspath(\"\")\n",
    "timestamp = datetime.now().strftime(\"%Y_%m_%d_%H-%M-%S\")\n",
    "output_path = f\"{timestamp}_output\"\n",
    "output_path = os.path.join(notebook_directory, output_path)\n",
    "os.makedirs(output_path)\n",
    "output_path_dwave = os.path.join(output_path,'dwave')"
   ]
  },
  {
   "cell_type": "markdown",
   "id": "85a042ec",
   "metadata": {},
   "source": [
    "# Solving a Design Optimization Problem with EngiOptiQA\n",
    "\n",
    "In this notebook, you can solve the design optimization problem presented in [Key and Freinberger (2024)](https://doi.org/10.3390/math12030482) using *Simulated Annealing (SA)*.\n",
    "\n",
    "## Suggested Steps\n",
    "   1. Reproduce the results from the paper\n",
    "   2. Study the effect of changing \n",
    "      - the number of qubits for representig the real-valued variables (`n_qubits_per_node`)\n",
    "      - the penalty weight for the constraint of static admissibility (`penalty_weight_dwave`)\n",
    "      - the number of runs of the simulated annealing algorithm (`num_reads`)\n",
    "      - the number of rod components (`n_comp`)\n",
    "      - ...\n"
   ]
  },
  {
   "cell_type": "markdown",
   "id": "f47e4d7c",
   "metadata": {},
   "source": [
    "## The Design Optimization Problem"
   ]
  },
  {
   "cell_type": "code",
   "execution_count": null,
   "id": "749cb054",
   "metadata": {},
   "outputs": [],
   "source": [
    "# Define the design optimization problem for a one-dimensional rod under self-weight loading through body force density g.\n",
    "g = 1.5\n",
    "# Rod with n_comp components and of length L.\n",
    "n_comp = 2; L = 1.5; A_choices = [0.25, 0.5]; rod_1d = Rod1D(n_comp, L)"
   ]
  },
  {
   "cell_type": "code",
   "execution_count": null,
   "id": "2b4db0fb",
   "metadata": {},
   "outputs": [],
   "source": [
    "optimization_problem_dwave = DesignOptimizationProblem(rod_1d, g, A_choice=A_choices, output_path=output_path_dwave)"
   ]
  },
  {
   "cell_type": "markdown",
   "id": "686ec241",
   "metadata": {},
   "source": [
    "### Analytical Solution"
   ]
  },
  {
   "cell_type": "code",
   "execution_count": null,
   "id": "3932a22c",
   "metadata": {},
   "outputs": [],
   "source": [
    "# Compute analytical solution.\n",
    "optimization_problem_dwave.compute_analytical_solution()"
   ]
  },
  {
   "cell_type": "markdown",
   "id": "77542ba5",
   "metadata": {},
   "source": [
    "### Numerical Solution"
   ]
  },
  {
   "cell_type": "markdown",
   "id": "f326ce67",
   "metadata": {},
   "source": [
    "#### DWave"
   ]
  },
  {
   "cell_type": "code",
   "execution_count": null,
   "id": "43b419ba",
   "metadata": {},
   "outputs": [],
   "source": [
    "# Setup the annealing solvers.\n",
    "token_files = {\n",
    "    'DWave': None,\n",
    "    }\n",
    "\n",
    "annealing_solver_dwave = AnnealingSolverDWave(token_files['DWave'])\n",
    "annealing_solver_dwave.setup_solver(solver_type='simulated_annealing')"
   ]
  },
  {
   "cell_type": "markdown",
   "id": "43c325f2",
   "metadata": {},
   "source": [
    "#### Discretization through Real-Valued Nodal Coefficients"
   ]
  },
  {
   "cell_type": "code",
   "execution_count": null,
   "id": "e5a29e35",
   "metadata": {},
   "outputs": [],
   "source": [
    "# Discretization.\n",
    "binary_representation = 'normalized'\n",
    "n_qubits_per_node = 3\n",
    "\n",
    "optimization_problem_dwave.generate_discretization(n_qubits_per_node, binary_representation)"
   ]
  },
  {
   "cell_type": "markdown",
   "id": "ad8ee8f3",
   "metadata": {},
   "source": [
    "#### QUBO Formulation"
   ]
  },
  {
   "cell_type": "code",
   "execution_count": null,
   "id": "c26e8179",
   "metadata": {},
   "outputs": [],
   "source": [
    "# QUBO formulation.\n",
    "penalty_weight_dwave = 5.0\n",
    "optimization_problem_dwave.generate_qubo_formulation(penalty_weight=penalty_weight_dwave)\n",
    "\n",
    "optimization_problem_dwave.visualize_qubo_matrix_pattern(save_fig=True, save_tikz=False)\n",
    "optimization_problem_dwave.visualize_qubo_matrix_sub_pattern(save_fig=True, save_tikz=False)"
   ]
  },
  {
   "cell_type": "markdown",
   "id": "efa6e323",
   "metadata": {},
   "source": [
    "#### Transform the Problem from the Amplify SDK to the DWave SDK"
   ]
  },
  {
   "cell_type": "code",
   "execution_count": null,
   "id": "46147ab1",
   "metadata": {},
   "outputs": [],
   "source": [
    "# Transform Amplify problem for DWave\n",
    "lp_file_name = 'design_optimization_problem_sa.lp'\n",
    "lp_file_path = os.path.join(output_path, lp_file_name)\n",
    "optimization_problem_dwave.transform_to_dwave(lp_file_path)"
   ]
  },
  {
   "cell_type": "markdown",
   "id": "c870ef62",
   "metadata": {},
   "source": [
    "#### Perform the Annealing"
   ]
  },
  {
   "cell_type": "code",
   "execution_count": null,
   "id": "ce5ac729",
   "metadata": {},
   "outputs": [],
   "source": [
    "# Solve problem.\n",
    "annealing_solver_dwave.solve_qubo_problem(\n",
    "    optimization_problem_dwave,\n",
    "    num_reads=10,\n",
    "    label = f\"Design Optimization Problem SA\",\n",
    "    )"
   ]
  },
  {
   "cell_type": "markdown",
   "id": "ba89fcb2",
   "metadata": {},
   "source": [
    "#### Analyze the Raw Results"
   ]
  },
  {
   "cell_type": "code",
   "execution_count": null,
   "id": "1b4667fa",
   "metadata": {},
   "outputs": [],
   "source": [
    "# Analyze raw results\n",
    "solutions_dwave = optimization_problem_dwave.analyze_results(result_max=0)"
   ]
  },
  {
   "cell_type": "code",
   "execution_count": null,
   "id": "c367f656",
   "metadata": {},
   "outputs": [],
   "source": [
    "save_best_solutions(optimization_problem_dwave, 'objective', solutions_dwave, output_path=output_path_dwave)"
   ]
  },
  {
   "cell_type": "code",
   "execution_count": null,
   "id": "059830e3",
   "metadata": {},
   "outputs": [],
   "source": []
  }
 ],
 "metadata": {
  "kernelspec": {
   "display_name": "cismschool",
   "language": "python",
   "name": "cismschool"
  },
  "language_info": {
   "codemirror_mode": {
    "name": "ipython",
    "version": 3
   },
   "file_extension": ".py",
   "mimetype": "text/x-python",
   "name": "python",
   "nbconvert_exporter": "python",
   "pygments_lexer": "ipython3",
   "version": "3.12.3"
  }
 },
 "nbformat": 4,
 "nbformat_minor": 5
}
