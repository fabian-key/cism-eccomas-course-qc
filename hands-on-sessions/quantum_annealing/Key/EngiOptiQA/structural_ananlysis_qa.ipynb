{
 "cells": [
  {
   "cell_type": "code",
   "execution_count": null,
   "id": "313a6b62",
   "metadata": {},
   "outputs": [],
   "source": [
    "import sys\n",
    "sys.path.append('/home/jovyan/EngiOptiQA')"
   ]
  },
  {
   "cell_type": "code",
   "execution_count": null,
   "id": "f5b5d7de",
   "metadata": {},
   "outputs": [],
   "source": [
    "import os\n",
    "\n",
    "from datetime import datetime\n",
    "from engioptiqa import AnnealingSolverDWave, Rod1D, StructuralAnalysisProblem\n",
    "from matplotlib import pyplot as plt\n",
    "import numpy as np\n"
   ]
  },
  {
   "cell_type": "code",
   "execution_count": null,
   "id": "cb9091d8",
   "metadata": {},
   "outputs": [],
   "source": [
    "# Create an output folder with current time stamp.\n",
    "notebook_directory = os.path.abspath(\"\")\n",
    "timestamp = datetime.now().strftime(\"%Y_%m_%d_%H-%M-%S\")\n",
    "output_path = f\"{timestamp}_output\"\n",
    "output_path = os.path.join(notebook_directory, output_path)\n",
    "os.makedirs(output_path)\n",
    "output_path_dwave = os.path.join(output_path,'dwave')"
   ]
  },
  {
   "cell_type": "markdown",
   "id": "f728e522",
   "metadata": {},
   "source": [
    "# Solving a Structural Analysis Problem with EngiOptiQA\n",
    "\n",
    "In this notebook, you can solve the structural analysis problem presented in [Key and Freinberger (2024)](https://doi.org/10.3390/math12030482) using *Quantum Annealing (QA)*.\n",
    "\n",
    "## Suggested Steps\n",
    "   1. Reproduce the results from the paper\n",
    "   2. Compare with the results from Simulated Annealing (SA)\n",
    "   3. Study the effect of changing \n",
    "      - the number of qubits for representig the real-valued variables (`n_qubits_per_node`)\n",
    "      - the penalty weight for the constraint of static admissibility (`penalty_weight_dwave`)\n",
    "      - the number of reads (`num_reads`)\n",
    "      - the annealing time (`annealing_time`)\n",
    "      - the chain strength (`chain_strength`)\n",
    "      - ...\n"
   ]
  },
  {
   "cell_type": "markdown",
   "id": "3a71c773",
   "metadata": {},
   "source": [
    "## The Structural Analysis Problem"
   ]
  },
  {
   "cell_type": "code",
   "execution_count": null,
   "id": "838a8fa0",
   "metadata": {},
   "outputs": [],
   "source": [
    "# Define the structural analysis problem for one-dimensional rod under self-weight loading through body force density g.\n",
    "g = 2.5\n",
    "# Rod with n_comp components and of length L.\n",
    "n_comp = 5; L = 1.5; A = 0.25; rod_1d = Rod1D(n_comp, L, A)\n",
    "\n",
    "analysis_problem_dwave = StructuralAnalysisProblem(rod_1d, g, output_path=output_path_dwave)"
   ]
  },
  {
   "cell_type": "markdown",
   "id": "261b0692",
   "metadata": {},
   "source": [
    "### Analytical Solution"
   ]
  },
  {
   "cell_type": "code",
   "execution_count": null,
   "id": "3e09a338",
   "metadata": {},
   "outputs": [],
   "source": [
    "# Compute analytical solution.\n",
    "analysis_problem_dwave.compute_analytical_solution()"
   ]
  },
  {
   "cell_type": "markdown",
   "id": "5f99e028",
   "metadata": {},
   "source": [
    "### Numerical Solution"
   ]
  },
  {
   "cell_type": "markdown",
   "id": "9ef5f6bd",
   "metadata": {},
   "source": [
    "#### DWave"
   ]
  },
  {
   "cell_type": "code",
   "execution_count": null,
   "id": "173f8828",
   "metadata": {},
   "outputs": [],
   "source": [
    "# Setup the annealing solver.\n",
    "token_files = {\n",
    "    'DWave': './token_DWave.txt'\n",
    "    }\n",
    "\n",
    "annealing_solver_dwave = AnnealingSolverDWave(token_files['DWave'])\n",
    "annealing_solver_dwave.setup_solver(solver_type='qpu')"
   ]
  },
  {
   "cell_type": "markdown",
   "id": "77c7df17",
   "metadata": {},
   "source": [
    "#### Discretization through Real-Valued Nodal Coefficients"
   ]
  },
  {
   "cell_type": "code",
   "execution_count": null,
   "id": "ff23ad82",
   "metadata": {},
   "outputs": [],
   "source": [
    "# Discretization.\n",
    "binary_representation = 'normalized'\n",
    "n_qubits_per_node = 10\n",
    "\n",
    "analysis_problem_dwave.generate_discretization(n_qubits_per_node, binary_representation)"
   ]
  },
  {
   "cell_type": "markdown",
   "id": "dc7e116b",
   "metadata": {},
   "source": [
    "#### QUBO Formulation"
   ]
  },
  {
   "cell_type": "code",
   "execution_count": null,
   "id": "8fb6a24c",
   "metadata": {},
   "outputs": [],
   "source": [
    "# QUBO formulation.\n",
    "penalty_weight_dwave = 2e1 # effective penalty weight\n",
    "analysis_problem_dwave.generate_qubo_formulation(penalty_weight=penalty_weight_dwave)\n",
    "analysis_problem_dwave.visualize_qubo_matrix_pattern(highlight_interactions=True, save_fig=False, save_tikz=False)"
   ]
  },
  {
   "cell_type": "markdown",
   "id": "9cb73eef",
   "metadata": {},
   "source": [
    "#### Transform the Problem from the Amplify SDK to the DWave SDK"
   ]
  },
  {
   "cell_type": "code",
   "execution_count": null,
   "id": "c7912659",
   "metadata": {},
   "outputs": [],
   "source": [
    "# Transform Amplify problem for DWave\n",
    "lp_file_name = 'structural_analysis_problem.lp'\n",
    "lp_file_path = os.path.join(output_path, lp_file_name)\n",
    "analysis_problem_dwave.transform_to_dwave(lp_file_path)\n"
   ]
  },
  {
   "cell_type": "markdown",
   "id": "fa89ea72",
   "metadata": {},
   "source": [
    "#### Perform the Annealing"
   ]
  },
  {
   "cell_type": "code",
   "execution_count": null,
   "id": "0e7b692c",
   "metadata": {},
   "outputs": [],
   "source": [
    "# Solve problem.\n",
    "annealing_solver_dwave.solve_qubo_problem(\n",
    "    analysis_problem_dwave,\n",
    "    num_reads=500,\n",
    "    annealing_time = 400.0,\n",
    "    auto_scale = True,\n",
    "    label = f\"Structural Analysis Problem\",\n",
    "    return_embedding = False,\n",
    "    chain_strength = 50\n",
    "    )\n"
   ]
  },
  {
   "cell_type": "markdown",
   "id": "0d6e2176",
   "metadata": {},
   "source": [
    "#### Analyze the Raw Results"
   ]
  },
  {
   "cell_type": "code",
   "execution_count": null,
   "id": "6d2645a6",
   "metadata": {},
   "outputs": [],
   "source": [
    "solutions_dwave = analysis_problem_dwave.analyze_results(result_max=0)"
   ]
  },
  {
   "cell_type": "code",
   "execution_count": null,
   "id": "7354437b",
   "metadata": {},
   "outputs": [],
   "source": [
    "errors_l2 = [d['error_l2_rel'] for d in solutions_dwave]\n",
    "errors_h1 = [d['error_h1_rel'] for d in solutions_dwave]\n",
    "objectives = [d['objective'] for d in solutions_dwave]\n",
    "complementary_energy = [d['complementary_energy'] for d in solutions_dwave]\n",
    "complementary_energy_diff_rel = [np.abs(d['complementary_energy']-analysis_problem_dwave.PI_analytic)/np.abs(analysis_problem_dwave.PI_analytic) for d in solutions_dwave]\n",
    "constraints = [d['constraints'] for d in solutions_dwave]\n",
    "constraints_weighted = [penalty_weight_dwave*d['constraints'] for d in solutions_dwave]"
   ]
  },
  {
   "cell_type": "markdown",
   "id": "15c9c7e1",
   "metadata": {},
   "source": [
    "#### Update the Penalty Weight"
   ]
  },
  {
   "cell_type": "code",
   "execution_count": null,
   "id": "3c7636ab",
   "metadata": {},
   "outputs": [],
   "source": [
    "# Perform local search with adapted penalty weight.\n",
    "analysis_problem_dwave.update_penalty_weight_in_qubo_formulation(penalty_weight=1.e9)\n",
    "annealing_solver_dwave.perform_local_search(analysis_problem_dwave) "
   ]
  },
  {
   "cell_type": "markdown",
   "id": "2ad72d57",
   "metadata": {},
   "source": [
    "#### Analyze the Post-Processed Results"
   ]
  },
  {
   "cell_type": "code",
   "execution_count": null,
   "id": "394e12de",
   "metadata": {},
   "outputs": [],
   "source": [
    "# Analyze post-processed results\n",
    "solutions_dwave_pp = analysis_problem_dwave.analyze_results(results=analysis_problem_dwave.results_pp, result_max=0)\n",
    "\n",
    "\n",
    "errors_l2_pp = [d['error_l2_rel'] for d in solutions_dwave_pp]\n",
    "errors_h1_pp = [d['error_h1_rel'] for d in solutions_dwave_pp]\n",
    "objectives_pp = [d['objective'] for d in solutions_dwave_pp]\n",
    "complementary_energy_pp = [d['complementary_energy'] for d in solutions_dwave_pp]\n",
    "complementary_energy_diff_rel_pp = [np.abs(d['complementary_energy']-analysis_problem_dwave.PI_analytic)/np.abs(analysis_problem_dwave.PI_analytic) for d in solutions_dwave_pp]\n",
    "constraint_pp = [d['constraints'] for d in solutions_dwave_pp]"
   ]
  },
  {
   "cell_type": "code",
   "execution_count": null,
   "id": "508631ae",
   "metadata": {},
   "outputs": [],
   "source": [
    "i_min =np.argsort(objectives_pp)\n",
    "i_sol = i_min[0]\n",
    "solution = solutions_dwave_pp[i_sol]\n",
    "error_l2 = errors_l2_pp[i_sol]\n",
    "error_h1 = errors_h1_pp[i_sol]\n",
    "objective = objectives_pp[i_sol]\n",
    "comp_energy_diff_rel =  complementary_energy_diff_rel_pp[i_sol]"
   ]
  },
  {
   "cell_type": "code",
   "execution_count": null,
   "id": "055e1abd",
   "metadata": {},
   "outputs": [],
   "source": [
    "analysis_problem_dwave.plot_force(\n",
    "    analysis_problem_dwave.force_analytic, \n",
    "    solution['force'], \n",
    "    subtitle='Quantum Annealing',\n",
    "    file_name=os.path.join(output_path_dwave, 'force_quantum_annealing'),\n",
    "    save_fig = True,\n",
    "    save_tikz = False\n",
    ") "
   ]
  }
 ],
 "metadata": {
  "kernelspec": {
   "display_name": "cismschool",
   "language": "python",
   "name": "cismschool"
  },
  "language_info": {
   "codemirror_mode": {
    "name": "ipython",
    "version": 3
   },
   "file_extension": ".py",
   "mimetype": "text/x-python",
   "name": "python",
   "nbconvert_exporter": "python",
   "pygments_lexer": "ipython3",
   "version": "3.12.3"
  }
 },
 "nbformat": 4,
 "nbformat_minor": 5
}
